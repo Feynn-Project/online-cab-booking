{
 "cells": [
  {
   "cell_type": "code",
   "execution_count": 41,
   "id": "36c637a3",
   "metadata": {},
   "outputs": [],
   "source": [
    "import pandas as pd\n",
    "import numpy as np\n",
    "import matplotlib.pyplot as pt\n",
    "import seaborn as sns"
   ]
  },
  {
   "cell_type": "code",
   "execution_count": 42,
   "id": "041c879e",
   "metadata": {},
   "outputs": [],
   "source": [
    "cab = pd.read_csv('cab_weather.csv')"
   ]
  },
  {
   "cell_type": "code",
   "execution_count": 43,
   "id": "33d5a1cb",
   "metadata": {},
   "outputs": [],
   "source": [
    "city = pd.read_csv('city_weather.csv')"
   ]
  },
  {
   "cell_type": "code",
   "execution_count": 44,
   "id": "c40745c4",
   "metadata": {},
   "outputs": [],
   "source": [
    "city['atemp'] = city[['tmin', 'tmax']].mean(axis=1)"
   ]
  },
  {
   "cell_type": "code",
   "execution_count": 45,
   "id": "2395504f",
   "metadata": {},
   "outputs": [],
   "source": [
    "main = pd.merge(city,cab,on='atemp',how='inner')"
   ]
  },
  {
   "cell_type": "code",
   "execution_count": 46,
   "id": "f4bf8c54",
   "metadata": {},
   "outputs": [
    {
     "data": {
      "text/html": [
       "<div>\n",
       "<style scoped>\n",
       "    .dataframe tbody tr th:only-of-type {\n",
       "        vertical-align: middle;\n",
       "    }\n",
       "\n",
       "    .dataframe tbody tr th {\n",
       "        vertical-align: top;\n",
       "    }\n",
       "\n",
       "    .dataframe thead th {\n",
       "        text-align: right;\n",
       "    }\n",
       "</style>\n",
       "<table border=\"1\" class=\"dataframe\">\n",
       "  <thead>\n",
       "    <tr style=\"text-align: right;\">\n",
       "      <th></th>\n",
       "      <th>time</th>\n",
       "      <th>tmin</th>\n",
       "      <th>tmax</th>\n",
       "      <th>prcp</th>\n",
       "      <th>city-Name</th>\n",
       "      <th>target</th>\n",
       "      <th>atemp</th>\n",
       "      <th>s.no</th>\n",
       "      <th>datetime</th>\n",
       "      <th>season</th>\n",
       "      <th>holiday</th>\n",
       "      <th>workingday</th>\n",
       "      <th>weather</th>\n",
       "      <th>temp</th>\n",
       "      <th>humidity</th>\n",
       "      <th>windspeed</th>\n",
       "    </tr>\n",
       "  </thead>\n",
       "  <tbody>\n",
       "    <tr>\n",
       "      <th>0</th>\n",
       "      <td>1990-08-01</td>\n",
       "      <td>22.0</td>\n",
       "      <td>28.0</td>\n",
       "      <td>0.5</td>\n",
       "      <td>Chennai</td>\n",
       "      <td>28.5</td>\n",
       "      <td>25.00</td>\n",
       "      <td>0</td>\n",
       "      <td>05/10/2012 11:00</td>\n",
       "      <td>Summer</td>\n",
       "      <td>0</td>\n",
       "      <td>1</td>\n",
       "      <td>Clear + Few clouds</td>\n",
       "      <td>21.32</td>\n",
       "      <td>48</td>\n",
       "      <td>35.0008</td>\n",
       "    </tr>\n",
       "    <tr>\n",
       "      <th>1</th>\n",
       "      <td>1990-08-01</td>\n",
       "      <td>22.0</td>\n",
       "      <td>28.0</td>\n",
       "      <td>0.5</td>\n",
       "      <td>Chennai</td>\n",
       "      <td>28.5</td>\n",
       "      <td>25.00</td>\n",
       "      <td>93</td>\n",
       "      <td>11/09/2011 16:00</td>\n",
       "      <td>Winter</td>\n",
       "      <td>0</td>\n",
       "      <td>1</td>\n",
       "      <td>Clear + Few clouds</td>\n",
       "      <td>21.32</td>\n",
       "      <td>48</td>\n",
       "      <td>12.9980</td>\n",
       "    </tr>\n",
       "    <tr>\n",
       "      <th>2</th>\n",
       "      <td>1990-08-01</td>\n",
       "      <td>22.0</td>\n",
       "      <td>28.0</td>\n",
       "      <td>0.5</td>\n",
       "      <td>Chennai</td>\n",
       "      <td>28.5</td>\n",
       "      <td>25.00</td>\n",
       "      <td>178</td>\n",
       "      <td>09/10/2011 02:00</td>\n",
       "      <td>Fall</td>\n",
       "      <td>0</td>\n",
       "      <td>0</td>\n",
       "      <td>Mist + Cloudy</td>\n",
       "      <td>24.60</td>\n",
       "      <td>97</td>\n",
       "      <td>7.0015</td>\n",
       "    </tr>\n",
       "    <tr>\n",
       "      <th>3</th>\n",
       "      <td>1990-08-01</td>\n",
       "      <td>22.0</td>\n",
       "      <td>28.0</td>\n",
       "      <td>0.5</td>\n",
       "      <td>Chennai</td>\n",
       "      <td>28.5</td>\n",
       "      <td>25.00</td>\n",
       "      <td>193</td>\n",
       "      <td>05/02/2012 20:00</td>\n",
       "      <td>Summer</td>\n",
       "      <td>0</td>\n",
       "      <td>1</td>\n",
       "      <td>Clear + Few clouds</td>\n",
       "      <td>21.32</td>\n",
       "      <td>77</td>\n",
       "      <td>16.9979</td>\n",
       "    </tr>\n",
       "    <tr>\n",
       "      <th>4</th>\n",
       "      <td>1990-08-01</td>\n",
       "      <td>22.0</td>\n",
       "      <td>28.0</td>\n",
       "      <td>0.5</td>\n",
       "      <td>Chennai</td>\n",
       "      <td>28.5</td>\n",
       "      <td>25.00</td>\n",
       "      <td>230</td>\n",
       "      <td>9/19/2012 6:00</td>\n",
       "      <td>Fall</td>\n",
       "      <td>0</td>\n",
       "      <td>1</td>\n",
       "      <td>Clear + Few clouds</td>\n",
       "      <td>21.32</td>\n",
       "      <td>63</td>\n",
       "      <td>16.9979</td>\n",
       "    </tr>\n",
       "    <tr>\n",
       "      <th>...</th>\n",
       "      <td>...</td>\n",
       "      <td>...</td>\n",
       "      <td>...</td>\n",
       "      <td>...</td>\n",
       "      <td>...</td>\n",
       "      <td>...</td>\n",
       "      <td>...</td>\n",
       "      <td>...</td>\n",
       "      <td>...</td>\n",
       "      <td>...</td>\n",
       "      <td>...</td>\n",
       "      <td>...</td>\n",
       "      <td>...</td>\n",
       "      <td>...</td>\n",
       "      <td>...</td>\n",
       "      <td>...</td>\n",
       "    </tr>\n",
       "    <tr>\n",
       "      <th>152930</th>\n",
       "      <td>2004-04-01</td>\n",
       "      <td>5.0</td>\n",
       "      <td>14.7</td>\n",
       "      <td>0.0</td>\n",
       "      <td>Delhi</td>\n",
       "      <td>13.5</td>\n",
       "      <td>9.85</td>\n",
       "      <td>8186</td>\n",
       "      <td>02/09/2012 07:00</td>\n",
       "      <td>Spring</td>\n",
       "      <td>0</td>\n",
       "      <td>1</td>\n",
       "      <td>Clear + Few clouds</td>\n",
       "      <td>8.20</td>\n",
       "      <td>69</td>\n",
       "      <td>16.9979</td>\n",
       "    </tr>\n",
       "    <tr>\n",
       "      <th>152931</th>\n",
       "      <td>2004-04-01</td>\n",
       "      <td>5.0</td>\n",
       "      <td>14.7</td>\n",
       "      <td>0.0</td>\n",
       "      <td>Delhi</td>\n",
       "      <td>13.5</td>\n",
       "      <td>9.85</td>\n",
       "      <td>8409</td>\n",
       "      <td>01/08/2011 04:00</td>\n",
       "      <td>Spring</td>\n",
       "      <td>0</td>\n",
       "      <td>0</td>\n",
       "      <td>Light Snow, Light Rain</td>\n",
       "      <td>7.38</td>\n",
       "      <td>55</td>\n",
       "      <td>11.0014</td>\n",
       "    </tr>\n",
       "    <tr>\n",
       "      <th>152932</th>\n",
       "      <td>2004-04-01</td>\n",
       "      <td>5.0</td>\n",
       "      <td>14.7</td>\n",
       "      <td>0.0</td>\n",
       "      <td>Delhi</td>\n",
       "      <td>13.5</td>\n",
       "      <td>9.85</td>\n",
       "      <td>8485</td>\n",
       "      <td>1/16/2011 19:00</td>\n",
       "      <td>Spring</td>\n",
       "      <td>0</td>\n",
       "      <td>0</td>\n",
       "      <td>Clear + Few clouds</td>\n",
       "      <td>7.38</td>\n",
       "      <td>47</td>\n",
       "      <td>8.9981</td>\n",
       "    </tr>\n",
       "    <tr>\n",
       "      <th>152933</th>\n",
       "      <td>2004-04-01</td>\n",
       "      <td>5.0</td>\n",
       "      <td>14.7</td>\n",
       "      <td>0.0</td>\n",
       "      <td>Delhi</td>\n",
       "      <td>13.5</td>\n",
       "      <td>9.85</td>\n",
       "      <td>8615</td>\n",
       "      <td>12/19/2011 8:00</td>\n",
       "      <td>Winter</td>\n",
       "      <td>0</td>\n",
       "      <td>1</td>\n",
       "      <td>Clear + Few clouds</td>\n",
       "      <td>8.20</td>\n",
       "      <td>75</td>\n",
       "      <td>12.9980</td>\n",
       "    </tr>\n",
       "    <tr>\n",
       "      <th>152934</th>\n",
       "      <td>2004-04-01</td>\n",
       "      <td>5.0</td>\n",
       "      <td>14.7</td>\n",
       "      <td>0.0</td>\n",
       "      <td>Delhi</td>\n",
       "      <td>13.5</td>\n",
       "      <td>9.85</td>\n",
       "      <td>8643</td>\n",
       "      <td>01/10/2012 07:00</td>\n",
       "      <td>Spring</td>\n",
       "      <td>0</td>\n",
       "      <td>1</td>\n",
       "      <td>Mist + Cloudy</td>\n",
       "      <td>7.38</td>\n",
       "      <td>93</td>\n",
       "      <td>11.0014</td>\n",
       "    </tr>\n",
       "  </tbody>\n",
       "</table>\n",
       "<p>152935 rows × 16 columns</p>\n",
       "</div>"
      ],
      "text/plain": [
       "              time  tmin  tmax  prcp city-Name  target  atemp  s.no  \\\n",
       "0       1990-08-01  22.0  28.0   0.5   Chennai    28.5  25.00     0   \n",
       "1       1990-08-01  22.0  28.0   0.5   Chennai    28.5  25.00    93   \n",
       "2       1990-08-01  22.0  28.0   0.5   Chennai    28.5  25.00   178   \n",
       "3       1990-08-01  22.0  28.0   0.5   Chennai    28.5  25.00   193   \n",
       "4       1990-08-01  22.0  28.0   0.5   Chennai    28.5  25.00   230   \n",
       "...            ...   ...   ...   ...       ...     ...    ...   ...   \n",
       "152930  2004-04-01   5.0  14.7   0.0     Delhi    13.5   9.85  8186   \n",
       "152931  2004-04-01   5.0  14.7   0.0     Delhi    13.5   9.85  8409   \n",
       "152932  2004-04-01   5.0  14.7   0.0     Delhi    13.5   9.85  8485   \n",
       "152933  2004-04-01   5.0  14.7   0.0     Delhi    13.5   9.85  8615   \n",
       "152934  2004-04-01   5.0  14.7   0.0     Delhi    13.5   9.85  8643   \n",
       "\n",
       "                datetime  season  holiday  workingday  \\\n",
       "0       05/10/2012 11:00  Summer        0           1   \n",
       "1       11/09/2011 16:00  Winter        0           1   \n",
       "2       09/10/2011 02:00    Fall        0           0   \n",
       "3       05/02/2012 20:00  Summer        0           1   \n",
       "4         9/19/2012 6:00    Fall        0           1   \n",
       "...                  ...     ...      ...         ...   \n",
       "152930  02/09/2012 07:00  Spring        0           1   \n",
       "152931  01/08/2011 04:00  Spring        0           0   \n",
       "152932   1/16/2011 19:00  Spring        0           0   \n",
       "152933   12/19/2011 8:00  Winter        0           1   \n",
       "152934  01/10/2012 07:00  Spring        0           1   \n",
       "\n",
       "                        weather   temp  humidity  windspeed  \n",
       "0            Clear + Few clouds  21.32        48    35.0008  \n",
       "1            Clear + Few clouds  21.32        48    12.9980  \n",
       "2                Mist + Cloudy   24.60        97     7.0015  \n",
       "3            Clear + Few clouds  21.32        77    16.9979  \n",
       "4            Clear + Few clouds  21.32        63    16.9979  \n",
       "...                         ...    ...       ...        ...  \n",
       "152930       Clear + Few clouds   8.20        69    16.9979  \n",
       "152931   Light Snow, Light Rain   7.38        55    11.0014  \n",
       "152932       Clear + Few clouds   7.38        47     8.9981  \n",
       "152933       Clear + Few clouds   8.20        75    12.9980  \n",
       "152934           Mist + Cloudy    7.38        93    11.0014  \n",
       "\n",
       "[152935 rows x 16 columns]"
      ]
     },
     "execution_count": 46,
     "metadata": {},
     "output_type": "execute_result"
    }
   ],
   "source": [
    "main"
   ]
  },
  {
   "cell_type": "code",
   "execution_count": 47,
   "id": "e4dd6cb9",
   "metadata": {},
   "outputs": [],
   "source": [
    "main_2 = main.drop(['time','datetime','s.no'],axis=1)"
   ]
  },
  {
   "cell_type": "code",
   "execution_count": 48,
   "id": "70b7e8ad",
   "metadata": {},
   "outputs": [
    {
     "data": {
      "text/html": [
       "<div>\n",
       "<style scoped>\n",
       "    .dataframe tbody tr th:only-of-type {\n",
       "        vertical-align: middle;\n",
       "    }\n",
       "\n",
       "    .dataframe tbody tr th {\n",
       "        vertical-align: top;\n",
       "    }\n",
       "\n",
       "    .dataframe thead th {\n",
       "        text-align: right;\n",
       "    }\n",
       "</style>\n",
       "<table border=\"1\" class=\"dataframe\">\n",
       "  <thead>\n",
       "    <tr style=\"text-align: right;\">\n",
       "      <th></th>\n",
       "      <th>tmin</th>\n",
       "      <th>tmax</th>\n",
       "      <th>prcp</th>\n",
       "      <th>city-Name</th>\n",
       "      <th>target</th>\n",
       "      <th>atemp</th>\n",
       "      <th>season</th>\n",
       "      <th>holiday</th>\n",
       "      <th>workingday</th>\n",
       "      <th>weather</th>\n",
       "      <th>temp</th>\n",
       "      <th>humidity</th>\n",
       "      <th>windspeed</th>\n",
       "    </tr>\n",
       "  </thead>\n",
       "  <tbody>\n",
       "    <tr>\n",
       "      <th>0</th>\n",
       "      <td>22.0</td>\n",
       "      <td>28.0</td>\n",
       "      <td>0.5</td>\n",
       "      <td>Chennai</td>\n",
       "      <td>28.5</td>\n",
       "      <td>25.00</td>\n",
       "      <td>Summer</td>\n",
       "      <td>0</td>\n",
       "      <td>1</td>\n",
       "      <td>Clear + Few clouds</td>\n",
       "      <td>21.32</td>\n",
       "      <td>48</td>\n",
       "      <td>35.0008</td>\n",
       "    </tr>\n",
       "    <tr>\n",
       "      <th>1</th>\n",
       "      <td>22.0</td>\n",
       "      <td>28.0</td>\n",
       "      <td>0.5</td>\n",
       "      <td>Chennai</td>\n",
       "      <td>28.5</td>\n",
       "      <td>25.00</td>\n",
       "      <td>Winter</td>\n",
       "      <td>0</td>\n",
       "      <td>1</td>\n",
       "      <td>Clear + Few clouds</td>\n",
       "      <td>21.32</td>\n",
       "      <td>48</td>\n",
       "      <td>12.9980</td>\n",
       "    </tr>\n",
       "    <tr>\n",
       "      <th>2</th>\n",
       "      <td>22.0</td>\n",
       "      <td>28.0</td>\n",
       "      <td>0.5</td>\n",
       "      <td>Chennai</td>\n",
       "      <td>28.5</td>\n",
       "      <td>25.00</td>\n",
       "      <td>Fall</td>\n",
       "      <td>0</td>\n",
       "      <td>0</td>\n",
       "      <td>Mist + Cloudy</td>\n",
       "      <td>24.60</td>\n",
       "      <td>97</td>\n",
       "      <td>7.0015</td>\n",
       "    </tr>\n",
       "    <tr>\n",
       "      <th>3</th>\n",
       "      <td>22.0</td>\n",
       "      <td>28.0</td>\n",
       "      <td>0.5</td>\n",
       "      <td>Chennai</td>\n",
       "      <td>28.5</td>\n",
       "      <td>25.00</td>\n",
       "      <td>Summer</td>\n",
       "      <td>0</td>\n",
       "      <td>1</td>\n",
       "      <td>Clear + Few clouds</td>\n",
       "      <td>21.32</td>\n",
       "      <td>77</td>\n",
       "      <td>16.9979</td>\n",
       "    </tr>\n",
       "    <tr>\n",
       "      <th>4</th>\n",
       "      <td>22.0</td>\n",
       "      <td>28.0</td>\n",
       "      <td>0.5</td>\n",
       "      <td>Chennai</td>\n",
       "      <td>28.5</td>\n",
       "      <td>25.00</td>\n",
       "      <td>Fall</td>\n",
       "      <td>0</td>\n",
       "      <td>1</td>\n",
       "      <td>Clear + Few clouds</td>\n",
       "      <td>21.32</td>\n",
       "      <td>63</td>\n",
       "      <td>16.9979</td>\n",
       "    </tr>\n",
       "    <tr>\n",
       "      <th>...</th>\n",
       "      <td>...</td>\n",
       "      <td>...</td>\n",
       "      <td>...</td>\n",
       "      <td>...</td>\n",
       "      <td>...</td>\n",
       "      <td>...</td>\n",
       "      <td>...</td>\n",
       "      <td>...</td>\n",
       "      <td>...</td>\n",
       "      <td>...</td>\n",
       "      <td>...</td>\n",
       "      <td>...</td>\n",
       "      <td>...</td>\n",
       "    </tr>\n",
       "    <tr>\n",
       "      <th>152930</th>\n",
       "      <td>5.0</td>\n",
       "      <td>14.7</td>\n",
       "      <td>0.0</td>\n",
       "      <td>Delhi</td>\n",
       "      <td>13.5</td>\n",
       "      <td>9.85</td>\n",
       "      <td>Spring</td>\n",
       "      <td>0</td>\n",
       "      <td>1</td>\n",
       "      <td>Clear + Few clouds</td>\n",
       "      <td>8.20</td>\n",
       "      <td>69</td>\n",
       "      <td>16.9979</td>\n",
       "    </tr>\n",
       "    <tr>\n",
       "      <th>152931</th>\n",
       "      <td>5.0</td>\n",
       "      <td>14.7</td>\n",
       "      <td>0.0</td>\n",
       "      <td>Delhi</td>\n",
       "      <td>13.5</td>\n",
       "      <td>9.85</td>\n",
       "      <td>Spring</td>\n",
       "      <td>0</td>\n",
       "      <td>0</td>\n",
       "      <td>Light Snow, Light Rain</td>\n",
       "      <td>7.38</td>\n",
       "      <td>55</td>\n",
       "      <td>11.0014</td>\n",
       "    </tr>\n",
       "    <tr>\n",
       "      <th>152932</th>\n",
       "      <td>5.0</td>\n",
       "      <td>14.7</td>\n",
       "      <td>0.0</td>\n",
       "      <td>Delhi</td>\n",
       "      <td>13.5</td>\n",
       "      <td>9.85</td>\n",
       "      <td>Spring</td>\n",
       "      <td>0</td>\n",
       "      <td>0</td>\n",
       "      <td>Clear + Few clouds</td>\n",
       "      <td>7.38</td>\n",
       "      <td>47</td>\n",
       "      <td>8.9981</td>\n",
       "    </tr>\n",
       "    <tr>\n",
       "      <th>152933</th>\n",
       "      <td>5.0</td>\n",
       "      <td>14.7</td>\n",
       "      <td>0.0</td>\n",
       "      <td>Delhi</td>\n",
       "      <td>13.5</td>\n",
       "      <td>9.85</td>\n",
       "      <td>Winter</td>\n",
       "      <td>0</td>\n",
       "      <td>1</td>\n",
       "      <td>Clear + Few clouds</td>\n",
       "      <td>8.20</td>\n",
       "      <td>75</td>\n",
       "      <td>12.9980</td>\n",
       "    </tr>\n",
       "    <tr>\n",
       "      <th>152934</th>\n",
       "      <td>5.0</td>\n",
       "      <td>14.7</td>\n",
       "      <td>0.0</td>\n",
       "      <td>Delhi</td>\n",
       "      <td>13.5</td>\n",
       "      <td>9.85</td>\n",
       "      <td>Spring</td>\n",
       "      <td>0</td>\n",
       "      <td>1</td>\n",
       "      <td>Mist + Cloudy</td>\n",
       "      <td>7.38</td>\n",
       "      <td>93</td>\n",
       "      <td>11.0014</td>\n",
       "    </tr>\n",
       "  </tbody>\n",
       "</table>\n",
       "<p>152935 rows × 13 columns</p>\n",
       "</div>"
      ],
      "text/plain": [
       "        tmin  tmax  prcp city-Name  target  atemp  season  holiday  \\\n",
       "0       22.0  28.0   0.5   Chennai    28.5  25.00  Summer        0   \n",
       "1       22.0  28.0   0.5   Chennai    28.5  25.00  Winter        0   \n",
       "2       22.0  28.0   0.5   Chennai    28.5  25.00    Fall        0   \n",
       "3       22.0  28.0   0.5   Chennai    28.5  25.00  Summer        0   \n",
       "4       22.0  28.0   0.5   Chennai    28.5  25.00    Fall        0   \n",
       "...      ...   ...   ...       ...     ...    ...     ...      ...   \n",
       "152930   5.0  14.7   0.0     Delhi    13.5   9.85  Spring        0   \n",
       "152931   5.0  14.7   0.0     Delhi    13.5   9.85  Spring        0   \n",
       "152932   5.0  14.7   0.0     Delhi    13.5   9.85  Spring        0   \n",
       "152933   5.0  14.7   0.0     Delhi    13.5   9.85  Winter        0   \n",
       "152934   5.0  14.7   0.0     Delhi    13.5   9.85  Spring        0   \n",
       "\n",
       "        workingday                  weather   temp  humidity  windspeed  \n",
       "0                1       Clear + Few clouds  21.32        48    35.0008  \n",
       "1                1       Clear + Few clouds  21.32        48    12.9980  \n",
       "2                0           Mist + Cloudy   24.60        97     7.0015  \n",
       "3                1       Clear + Few clouds  21.32        77    16.9979  \n",
       "4                1       Clear + Few clouds  21.32        63    16.9979  \n",
       "...            ...                      ...    ...       ...        ...  \n",
       "152930           1       Clear + Few clouds   8.20        69    16.9979  \n",
       "152931           0   Light Snow, Light Rain   7.38        55    11.0014  \n",
       "152932           0       Clear + Few clouds   7.38        47     8.9981  \n",
       "152933           1       Clear + Few clouds   8.20        75    12.9980  \n",
       "152934           1           Mist + Cloudy    7.38        93    11.0014  \n",
       "\n",
       "[152935 rows x 13 columns]"
      ]
     },
     "execution_count": 48,
     "metadata": {},
     "output_type": "execute_result"
    }
   ],
   "source": [
    "main_2"
   ]
  },
  {
   "cell_type": "code",
   "execution_count": 49,
   "id": "86bd9ada",
   "metadata": {},
   "outputs": [],
   "source": [
    "from sklearn.preprocessing import LabelEncoder"
   ]
  },
  {
   "cell_type": "code",
   "execution_count": 50,
   "id": "e0469ad3",
   "metadata": {},
   "outputs": [],
   "source": [
    "encoder = LabelEncoder()"
   ]
  },
  {
   "cell_type": "code",
   "execution_count": 51,
   "id": "e1556ecf",
   "metadata": {},
   "outputs": [],
   "source": [
    "main_2['city_e']=encoder.fit_transform(main_2['city-Name'])\n",
    "main_2['season_e']=encoder.fit_transform(main_2['season'])\n",
    "main_2['weather_e']=encoder.fit_transform(main_2['weather'])"
   ]
  },
  {
   "cell_type": "code",
   "execution_count": 52,
   "id": "83f8a38c",
   "metadata": {},
   "outputs": [],
   "source": [
    "main_2 = main_2.drop(['city-Name','season','weather'],axis=1)"
   ]
  },
  {
   "cell_type": "code",
   "execution_count": 54,
   "id": "110af837",
   "metadata": {},
   "outputs": [],
   "source": [
    "X=main_2.drop(['prcp'],axis =1)\n",
    "y = main['prcp']"
   ]
  },
  {
   "cell_type": "code",
   "execution_count": 55,
   "id": "45414d01",
   "metadata": {},
   "outputs": [],
   "source": [
    "from sklearn.model_selection import train_test_split"
   ]
  },
  {
   "cell_type": "code",
   "execution_count": 56,
   "id": "d459c4d7",
   "metadata": {},
   "outputs": [],
   "source": [
    "X_train, X_test, y_train, y_test = train_test_split(X, y, test_size=0.33, random_state=42)"
   ]
  },
  {
   "cell_type": "code",
   "execution_count": 57,
   "id": "097b6761",
   "metadata": {},
   "outputs": [],
   "source": [
    "from sklearn.linear_model import LinearRegression"
   ]
  },
  {
   "cell_type": "code",
   "execution_count": 58,
   "id": "91d71678",
   "metadata": {},
   "outputs": [],
   "source": [
    "model = LinearRegression()"
   ]
  },
  {
   "cell_type": "code",
   "execution_count": 59,
   "id": "c95b40ff",
   "metadata": {},
   "outputs": [
    {
     "data": {
      "text/html": [
       "<style>#sk-container-id-2 {color: black;background-color: white;}#sk-container-id-2 pre{padding: 0;}#sk-container-id-2 div.sk-toggleable {background-color: white;}#sk-container-id-2 label.sk-toggleable__label {cursor: pointer;display: block;width: 100%;margin-bottom: 0;padding: 0.3em;box-sizing: border-box;text-align: center;}#sk-container-id-2 label.sk-toggleable__label-arrow:before {content: \"▸\";float: left;margin-right: 0.25em;color: #696969;}#sk-container-id-2 label.sk-toggleable__label-arrow:hover:before {color: black;}#sk-container-id-2 div.sk-estimator:hover label.sk-toggleable__label-arrow:before {color: black;}#sk-container-id-2 div.sk-toggleable__content {max-height: 0;max-width: 0;overflow: hidden;text-align: left;background-color: #f0f8ff;}#sk-container-id-2 div.sk-toggleable__content pre {margin: 0.2em;color: black;border-radius: 0.25em;background-color: #f0f8ff;}#sk-container-id-2 input.sk-toggleable__control:checked~div.sk-toggleable__content {max-height: 200px;max-width: 100%;overflow: auto;}#sk-container-id-2 input.sk-toggleable__control:checked~label.sk-toggleable__label-arrow:before {content: \"▾\";}#sk-container-id-2 div.sk-estimator input.sk-toggleable__control:checked~label.sk-toggleable__label {background-color: #d4ebff;}#sk-container-id-2 div.sk-label input.sk-toggleable__control:checked~label.sk-toggleable__label {background-color: #d4ebff;}#sk-container-id-2 input.sk-hidden--visually {border: 0;clip: rect(1px 1px 1px 1px);clip: rect(1px, 1px, 1px, 1px);height: 1px;margin: -1px;overflow: hidden;padding: 0;position: absolute;width: 1px;}#sk-container-id-2 div.sk-estimator {font-family: monospace;background-color: #f0f8ff;border: 1px dotted black;border-radius: 0.25em;box-sizing: border-box;margin-bottom: 0.5em;}#sk-container-id-2 div.sk-estimator:hover {background-color: #d4ebff;}#sk-container-id-2 div.sk-parallel-item::after {content: \"\";width: 100%;border-bottom: 1px solid gray;flex-grow: 1;}#sk-container-id-2 div.sk-label:hover label.sk-toggleable__label {background-color: #d4ebff;}#sk-container-id-2 div.sk-serial::before {content: \"\";position: absolute;border-left: 1px solid gray;box-sizing: border-box;top: 0;bottom: 0;left: 50%;z-index: 0;}#sk-container-id-2 div.sk-serial {display: flex;flex-direction: column;align-items: center;background-color: white;padding-right: 0.2em;padding-left: 0.2em;position: relative;}#sk-container-id-2 div.sk-item {position: relative;z-index: 1;}#sk-container-id-2 div.sk-parallel {display: flex;align-items: stretch;justify-content: center;background-color: white;position: relative;}#sk-container-id-2 div.sk-item::before, #sk-container-id-2 div.sk-parallel-item::before {content: \"\";position: absolute;border-left: 1px solid gray;box-sizing: border-box;top: 0;bottom: 0;left: 50%;z-index: -1;}#sk-container-id-2 div.sk-parallel-item {display: flex;flex-direction: column;z-index: 1;position: relative;background-color: white;}#sk-container-id-2 div.sk-parallel-item:first-child::after {align-self: flex-end;width: 50%;}#sk-container-id-2 div.sk-parallel-item:last-child::after {align-self: flex-start;width: 50%;}#sk-container-id-2 div.sk-parallel-item:only-child::after {width: 0;}#sk-container-id-2 div.sk-dashed-wrapped {border: 1px dashed gray;margin: 0 0.4em 0.5em 0.4em;box-sizing: border-box;padding-bottom: 0.4em;background-color: white;}#sk-container-id-2 div.sk-label label {font-family: monospace;font-weight: bold;display: inline-block;line-height: 1.2em;}#sk-container-id-2 div.sk-label-container {text-align: center;}#sk-container-id-2 div.sk-container {/* jupyter's `normalize.less` sets `[hidden] { display: none; }` but bootstrap.min.css set `[hidden] { display: none !important; }` so we also need the `!important` here to be able to override the default hidden behavior on the sphinx rendered scikit-learn.org. See: https://github.com/scikit-learn/scikit-learn/issues/21755 */display: inline-block !important;position: relative;}#sk-container-id-2 div.sk-text-repr-fallback {display: none;}</style><div id=\"sk-container-id-2\" class=\"sk-top-container\"><div class=\"sk-text-repr-fallback\"><pre>LinearRegression()</pre><b>In a Jupyter environment, please rerun this cell to show the HTML representation or trust the notebook. <br />On GitHub, the HTML representation is unable to render, please try loading this page with nbviewer.org.</b></div><div class=\"sk-container\" hidden><div class=\"sk-item\"><div class=\"sk-estimator sk-toggleable\"><input class=\"sk-toggleable__control sk-hidden--visually\" id=\"sk-estimator-id-2\" type=\"checkbox\" checked><label for=\"sk-estimator-id-2\" class=\"sk-toggleable__label sk-toggleable__label-arrow\">LinearRegression</label><div class=\"sk-toggleable__content\"><pre>LinearRegression()</pre></div></div></div></div></div>"
      ],
      "text/plain": [
       "LinearRegression()"
      ]
     },
     "execution_count": 59,
     "metadata": {},
     "output_type": "execute_result"
    }
   ],
   "source": [
    "model.fit(X_train,y_train)"
   ]
  },
  {
   "cell_type": "code",
   "execution_count": 60,
   "id": "9b40f106",
   "metadata": {},
   "outputs": [],
   "source": [
    "test_predictions = model.predict(X_test)"
   ]
  },
  {
   "cell_type": "code",
   "execution_count": 61,
   "id": "2589a0f5",
   "metadata": {},
   "outputs": [
    {
     "data": {
      "text/plain": [
       "array([ 4.89741496,  3.17778691, -1.50657013, ..., -1.30118147,\n",
       "        2.56295477,  5.52196118])"
      ]
     },
     "execution_count": 61,
     "metadata": {},
     "output_type": "execute_result"
    }
   ],
   "source": [
    "test_predictions"
   ]
  },
  {
   "cell_type": "code",
   "execution_count": 62,
   "id": "a81d33d9",
   "metadata": {},
   "outputs": [],
   "source": [
    "from sklearn.metrics import mean_squared_error"
   ]
  },
  {
   "cell_type": "code",
   "execution_count": 63,
   "id": "58369de7",
   "metadata": {},
   "outputs": [],
   "source": [
    "MSE = mean_squared_error(y_test,test_predictions)\n",
    "RMSE = np.sqrt(MSE)"
   ]
  },
  {
   "cell_type": "code",
   "execution_count": 64,
   "id": "06d81635",
   "metadata": {},
   "outputs": [
    {
     "data": {
      "text/plain": [
       "11.434701846029974"
      ]
     },
     "execution_count": 64,
     "metadata": {},
     "output_type": "execute_result"
    }
   ],
   "source": [
    "RMSE"
   ]
  },
  {
   "cell_type": "code",
   "execution_count": 65,
   "id": "30a0ba79",
   "metadata": {},
   "outputs": [
    {
     "data": {
      "text/plain": [
       "<AxesSubplot:ylabel='Count'>"
      ]
     },
     "execution_count": 65,
     "metadata": {},
     "output_type": "execute_result"
    },
    {
     "data": {
      "image/png": "[encoded data removed]",
      "text/plain": [
       "<Figure size 1000x600 with 1 Axes>"
      ]
     },
     "metadata": {
      "needs_background": "light"
     },
     "output_type": "display_data"
    }
   ],
   "source": [
    "pt.figure(figsize=(10,6),dpi=100)\n",
    "sns.histplot(test_predictions)"
   ]
  },
  {
   "cell_type": "code",
   "execution_count": 66,
   "id": "1084153d",
   "metadata": {},
   "outputs": [
    {
     "data": {
      "text/plain": [
       "(3.347910434336725, 4.971522460083138)"
      ]
     },
     "execution_count": 66,
     "metadata": {},
     "output_type": "execute_result"
    }
   ],
   "source": [
    "from scipy import stats\n",
    "mu, std = stats.norm.fit(test_predictions)\n",
    "mu, std"
   ]
  },
  {
   "cell_type": "code",
   "execution_count": 67,
   "id": "1a35e6c9",
   "metadata": {},
   "outputs": [
    {
     "data": {
      "image/png": "[encoded data removed]",
      "text/plain": [
       "<Figure size 432x288 with 1 Axes>"
      ]
     },
     "metadata": {
      "needs_background": "light"
     },
     "output_type": "display_data"
    }
   ],
   "source": [
    "fig, ax = pt.subplots()\n",
    "sns.histplot(x=test_predictions, ax=ax, stat=\"density\", linewidth=0, kde=True)\n",
    "ax.set(title=\"Distribution of residuals\", xlabel=\"residual\")\n",
    "\n",
    "\n",
    "xmin, xmax = pt.xlim()\n",
    "x = np.linspace(xmin, xmax, 100) \n",
    "p = stats.norm.pdf(x, mu, std) \n",
    "sns.lineplot(x=x, y=p, color=\"orange\", ax=ax)\n",
    "pt.show()"
   ]
  },
  {
   "cell_type": "code",
   "execution_count": null,
   "id": "971a1f82",
   "metadata": {},
   "outputs": [],
   "source": []
  }
 ],
 "metadata": {
  "kernelspec": {
   "display_name": "Python 3 (ipykernel)",
   "language": "python",
   "name": "python3"
  },
  "language_info": {
   "codemirror_mode": {
    "name": "ipython",
    "version": 3
   },
   "file_extension": ".py",
   "mimetype": "text/x-python",
   "name": "python",
   "nbconvert_exporter": "python",
   "pygments_lexer": "ipython3",
   "version": "3.10.4"
  }
 },
 "nbformat": 4,
 "nbformat_minor": 5
}
