{
 "cells": [
  {
   "cell_type": "code",
   "execution_count": 1,
   "id": "d07d73fb",
   "metadata": {},
   "outputs": [],
   "source": [
    "import pandas as pd\n",
    "import numpy as np\n",
    "import matplotlib.pyplot as plt\n",
    "import seaborn as sns\n"
   ]
  },
  {
   "cell_type": "code",
   "execution_count": 2,
   "id": "d82fe17b",
   "metadata": {},
   "outputs": [],
   "source": [
    "df= pd.read_excel(\"D:\\online drives.xlsx\")"
   ]
  },
  {
   "cell_type": "code",
   "execution_count": 3,
   "id": "7947b8ce",
   "metadata": {},
   "outputs": [
    {
     "data": {
      "text/html": [
       "<div>\n",
       "<style scoped>\n",
       "    .dataframe tbody tr th:only-of-type {\n",
       "        vertical-align: middle;\n",
       "    }\n",
       "\n",
       "    .dataframe tbody tr th {\n",
       "        vertical-align: top;\n",
       "    }\n",
       "\n",
       "    .dataframe thead th {\n",
       "        text-align: right;\n",
       "    }\n",
       "</style>\n",
       "<table border=\"1\" class=\"dataframe\">\n",
       "  <thead>\n",
       "    <tr style=\"text-align: right;\">\n",
       "      <th></th>\n",
       "      <th>START_DATE</th>\n",
       "      <th>END_DATE</th>\n",
       "      <th>CATEGORY</th>\n",
       "      <th>START</th>\n",
       "      <th>STOP</th>\n",
       "      <th>MILES</th>\n",
       "      <th>PURPOSE</th>\n",
       "    </tr>\n",
       "  </thead>\n",
       "  <tbody>\n",
       "    <tr>\n",
       "      <th>0</th>\n",
       "      <td>2016-01-01 21:11:00</td>\n",
       "      <td>2016-01-01 21:17:00</td>\n",
       "      <td>Business</td>\n",
       "      <td>Fort Pierce</td>\n",
       "      <td>Fort Pierce</td>\n",
       "      <td>5.1</td>\n",
       "      <td>Meal/Entertain</td>\n",
       "    </tr>\n",
       "    <tr>\n",
       "      <th>1</th>\n",
       "      <td>2016-02-01 01:25:00</td>\n",
       "      <td>2016-02-01 01:37:00</td>\n",
       "      <td>Business</td>\n",
       "      <td>Fort Pierce</td>\n",
       "      <td>Fort Pierce</td>\n",
       "      <td>5.0</td>\n",
       "      <td>NaN</td>\n",
       "    </tr>\n",
       "    <tr>\n",
       "      <th>2</th>\n",
       "      <td>2016-02-01 20:25:00</td>\n",
       "      <td>2016-02-01 20:38:00</td>\n",
       "      <td>Business</td>\n",
       "      <td>Fort Pierce</td>\n",
       "      <td>Fort Pierce</td>\n",
       "      <td>4.8</td>\n",
       "      <td>Errand/Supplies</td>\n",
       "    </tr>\n",
       "    <tr>\n",
       "      <th>3</th>\n",
       "      <td>2016-05-01 17:31:00</td>\n",
       "      <td>2016-05-01 17:45:00</td>\n",
       "      <td>Business</td>\n",
       "      <td>Fort Pierce</td>\n",
       "      <td>Fort Pierce</td>\n",
       "      <td>4.7</td>\n",
       "      <td>Meeting</td>\n",
       "    </tr>\n",
       "    <tr>\n",
       "      <th>4</th>\n",
       "      <td>2016-06-01 14:42:00</td>\n",
       "      <td>2016-06-01 15:49:00</td>\n",
       "      <td>Business</td>\n",
       "      <td>Fort Pierce</td>\n",
       "      <td>West Palm Beach</td>\n",
       "      <td>63.7</td>\n",
       "      <td>Customer Visit</td>\n",
       "    </tr>\n",
       "  </tbody>\n",
       "</table>\n",
       "</div>"
      ],
      "text/plain": [
       "            START_DATE             END_DATE  CATEGORY        START  \\\n",
       "0  2016-01-01 21:11:00  2016-01-01 21:17:00  Business  Fort Pierce   \n",
       "1  2016-02-01 01:25:00  2016-02-01 01:37:00  Business  Fort Pierce   \n",
       "2  2016-02-01 20:25:00  2016-02-01 20:38:00  Business  Fort Pierce   \n",
       "3  2016-05-01 17:31:00  2016-05-01 17:45:00  Business  Fort Pierce   \n",
       "4  2016-06-01 14:42:00  2016-06-01 15:49:00  Business  Fort Pierce   \n",
       "\n",
       "              STOP  MILES          PURPOSE  \n",
       "0      Fort Pierce    5.1   Meal/Entertain  \n",
       "1      Fort Pierce    5.0              NaN  \n",
       "2      Fort Pierce    4.8  Errand/Supplies  \n",
       "3      Fort Pierce    4.7          Meeting  \n",
       "4  West Palm Beach   63.7   Customer Visit  "
      ]
     },
     "execution_count": 3,
     "metadata": {},
     "output_type": "execute_result"
    }
   ],
   "source": [
    "df.head()"
   ]
  },
  {
   "cell_type": "code",
   "execution_count": 4,
   "id": "090aad02",
   "metadata": {},
   "outputs": [
    {
     "data": {
      "text/plain": [
       "START_DATE      0\n",
       "END_DATE        1\n",
       "CATEGORY        1\n",
       "START           1\n",
       "STOP            1\n",
       "MILES           0\n",
       "PURPOSE       503\n",
       "dtype: int64"
      ]
     },
     "execution_count": 4,
     "metadata": {},
     "output_type": "execute_result"
    }
   ],
   "source": [
    "df.isnull().sum()"
   ]
  },
  {
   "cell_type": "code",
   "execution_count": 5,
   "id": "2a61d6af",
   "metadata": {},
   "outputs": [],
   "source": [
    "df['END_DATE']= df['END_DATE'].fillna(0)\n",
    "df['CATEGORY']= df['CATEGORY'].fillna(0)\n",
    "df['START']= df['START'].fillna(0)\n",
    "df['STOP']= df['STOP'].fillna(0)"
   ]
  },
  {
   "cell_type": "code",
   "execution_count": 6,
   "id": "55c6dd81",
   "metadata": {},
   "outputs": [
    {
     "name": "stdout",
     "output_type": "stream",
     "text": [
      "<class 'pandas.core.frame.DataFrame'>\n",
      "RangeIndex: 1156 entries, 0 to 1155\n",
      "Data columns (total 7 columns):\n",
      " #   Column      Non-Null Count  Dtype  \n",
      "---  ------      --------------  -----  \n",
      " 0   START_DATE  1156 non-null   object \n",
      " 1   END_DATE    1156 non-null   object \n",
      " 2   CATEGORY    1156 non-null   object \n",
      " 3   START       1156 non-null   object \n",
      " 4   STOP        1156 non-null   object \n",
      " 5   MILES       1156 non-null   float64\n",
      " 6   PURPOSE     653 non-null    object \n",
      "dtypes: float64(1), object(6)\n",
      "memory usage: 63.3+ KB\n"
     ]
    }
   ],
   "source": [
    "df.info()"
   ]
  },
  {
   "cell_type": "code",
   "execution_count": 7,
   "id": "7a061bd1",
   "metadata": {},
   "outputs": [],
   "source": [
    "df= df.rename(columns= {df.columns[0]:'startdate',df.columns[1]:'enddate', df.columns[2]:'category', df.columns[3]:'start', \n",
    "                        df.columns[4]:'stop', df.columns[5]:'miles', df.columns[6]:'purpose' })"
   ]
  },
  {
   "cell_type": "code",
   "execution_count": 8,
   "id": "b4c588b4",
   "metadata": {},
   "outputs": [
    {
     "data": {
      "text/html": [
       "<div>\n",
       "<style scoped>\n",
       "    .dataframe tbody tr th:only-of-type {\n",
       "        vertical-align: middle;\n",
       "    }\n",
       "\n",
       "    .dataframe tbody tr th {\n",
       "        vertical-align: top;\n",
       "    }\n",
       "\n",
       "    .dataframe thead th {\n",
       "        text-align: right;\n",
       "    }\n",
       "</style>\n",
       "<table border=\"1\" class=\"dataframe\">\n",
       "  <thead>\n",
       "    <tr style=\"text-align: right;\">\n",
       "      <th></th>\n",
       "      <th>startdate</th>\n",
       "      <th>enddate</th>\n",
       "      <th>category</th>\n",
       "      <th>start</th>\n",
       "      <th>stop</th>\n",
       "      <th>miles</th>\n",
       "      <th>purpose</th>\n",
       "    </tr>\n",
       "  </thead>\n",
       "  <tbody>\n",
       "    <tr>\n",
       "      <th>0</th>\n",
       "      <td>2016-01-01 21:11:00</td>\n",
       "      <td>2016-01-01 21:17:00</td>\n",
       "      <td>Business</td>\n",
       "      <td>Fort Pierce</td>\n",
       "      <td>Fort Pierce</td>\n",
       "      <td>5.1</td>\n",
       "      <td>Meal/Entertain</td>\n",
       "    </tr>\n",
       "    <tr>\n",
       "      <th>1</th>\n",
       "      <td>2016-02-01 01:25:00</td>\n",
       "      <td>2016-02-01 01:37:00</td>\n",
       "      <td>Business</td>\n",
       "      <td>Fort Pierce</td>\n",
       "      <td>Fort Pierce</td>\n",
       "      <td>5.0</td>\n",
       "      <td>NaN</td>\n",
       "    </tr>\n",
       "    <tr>\n",
       "      <th>2</th>\n",
       "      <td>2016-02-01 20:25:00</td>\n",
       "      <td>2016-02-01 20:38:00</td>\n",
       "      <td>Business</td>\n",
       "      <td>Fort Pierce</td>\n",
       "      <td>Fort Pierce</td>\n",
       "      <td>4.8</td>\n",
       "      <td>Errand/Supplies</td>\n",
       "    </tr>\n",
       "    <tr>\n",
       "      <th>3</th>\n",
       "      <td>2016-05-01 17:31:00</td>\n",
       "      <td>2016-05-01 17:45:00</td>\n",
       "      <td>Business</td>\n",
       "      <td>Fort Pierce</td>\n",
       "      <td>Fort Pierce</td>\n",
       "      <td>4.7</td>\n",
       "      <td>Meeting</td>\n",
       "    </tr>\n",
       "    <tr>\n",
       "      <th>4</th>\n",
       "      <td>2016-06-01 14:42:00</td>\n",
       "      <td>2016-06-01 15:49:00</td>\n",
       "      <td>Business</td>\n",
       "      <td>Fort Pierce</td>\n",
       "      <td>West Palm Beach</td>\n",
       "      <td>63.7</td>\n",
       "      <td>Customer Visit</td>\n",
       "    </tr>\n",
       "  </tbody>\n",
       "</table>\n",
       "</div>"
      ],
      "text/plain": [
       "             startdate              enddate  category        start  \\\n",
       "0  2016-01-01 21:11:00  2016-01-01 21:17:00  Business  Fort Pierce   \n",
       "1  2016-02-01 01:25:00  2016-02-01 01:37:00  Business  Fort Pierce   \n",
       "2  2016-02-01 20:25:00  2016-02-01 20:38:00  Business  Fort Pierce   \n",
       "3  2016-05-01 17:31:00  2016-05-01 17:45:00  Business  Fort Pierce   \n",
       "4  2016-06-01 14:42:00  2016-06-01 15:49:00  Business  Fort Pierce   \n",
       "\n",
       "              stop  miles          purpose  \n",
       "0      Fort Pierce    5.1   Meal/Entertain  \n",
       "1      Fort Pierce    5.0              NaN  \n",
       "2      Fort Pierce    4.8  Errand/Supplies  \n",
       "3      Fort Pierce    4.7          Meeting  \n",
       "4  West Palm Beach   63.7   Customer Visit  "
      ]
     },
     "execution_count": 8,
     "metadata": {},
     "output_type": "execute_result"
    }
   ],
   "source": [
    "df.head(5)"
   ]
  },
  {
   "cell_type": "code",
   "execution_count": 9,
   "id": "ab3d593d",
   "metadata": {},
   "outputs": [],
   "source": [
    "df=df[:-1]"
   ]
  },
  {
   "cell_type": "code",
   "execution_count": 15,
   "id": "8f451e55",
   "metadata": {},
   "outputs": [
    {
     "name": "stdout",
     "output_type": "stream",
     "text": [
      "Month Distribute: 1      81\n",
      "2     105\n",
      "3     104\n",
      "4      62\n",
      "5      56\n",
      "6      99\n",
      "7     105\n",
      "8     127\n",
      "9      52\n",
      "10    117\n",
      "11     96\n",
      "12    151\n",
      "Name: startdate, dtype: int64\n"
     ]
    },
    {
     "data": {
      "image/png": "[encoded data removed]",
      "text/plain": [
       "<Figure size 640x480 with 1 Axes>"
      ]
     },
     "metadata": {},
     "output_type": "display_data"
    }
   ],
   "source": [
    "# By Month\n",
    "import datetime\n",
    "df[\"startdate\"]=pd.to_datetime(df[\"startdate\"])\n",
    "sd_m_dis=df[\"startdate\"].dt.month.value_counts()\n",
    "sd_m_dis=sd_m_dis.sort_index()\n",
    "sd_m_mean=sd_m_dis.mean()\n",
    "print(\"Month Distribute:\",sd_m_dis)\n",
    "def autolabel(rects):\n",
    "    for rect in rects:\n",
    "        height = rect.get_height()\n",
    "        plt.text(rect.get_x()+rect.get_width()/2., 1.03*height, '%s' % int(height))\n",
    "rects=plt.bar(sd_m_dis.index,sd_m_dis.values)\n",
    "plt.plot([0,len(sd_m_dis.index)+1],[sd_m_mean,sd_m_mean],\"r--\")\n",
    "plt.title(\"Startdate DISTRIBUTE\")\n",
    "plt.xlabel(\"Month\")\n",
    "plt.ylabel(\"Driving Times\")\n",
    "plt.grid()\n",
    "autolabel(rects)\n",
    "plt.savefig(\"./sd_m_dis_fig\")"
   ]
  },
  {
   "cell_type": "code",
   "execution_count": 17,
   "id": "fe9f49e0",
   "metadata": {},
   "outputs": [
    {
     "name": "stdout",
     "output_type": "stream",
     "text": [
      "Hours Distribute: 0     19\n",
      "1      5\n",
      "2      2\n",
      "3      3\n",
      "5      4\n",
      "6      4\n",
      "7     13\n",
      "8     35\n",
      "9     51\n",
      "10    65\n",
      "11    72\n",
      "12    77\n",
      "13    94\n",
      "14    89\n",
      "15    98\n",
      "16    88\n",
      "17    95\n",
      "18    94\n",
      "19    68\n",
      "20    71\n",
      "21    51\n",
      "22    31\n",
      "23    26\n",
      "Name: startdate, dtype: int64\n"
     ]
    },
    {
     "data": {
      "image/png": "[encoded data removed]",
      "text/plain": [
       "<Figure size 640x480 with 1 Axes>"
      ]
     },
     "metadata": {},
     "output_type": "display_data"
    }
   ],
   "source": [
    "# By Hour\n",
    "sd_h_dis=df[\"startdate\"].dt.hour.value_counts()\n",
    "sd_h_dis=sd_h_dis.sort_index()\n",
    "print(\"Hours Distribute:\",sd_h_dis)\n",
    "sd_h_mean=sd_h_dis.mean()\n",
    "rects=plt.bar(sd_h_dis.index,sd_h_dis.values)\n",
    "plt.plot([0,len(sd_h_dis.index)+1],[sd_h_mean,sd_h_mean],\"r--\")\n",
    "plt.title(\"START DATE(Hours) DISTRIBUTE\")\n",
    "plt.xlabel(\"Hours\")\n",
    "plt.ylabel(\"Driving Times\")\n",
    "plt.grid()\n",
    "autolabel(rects)\n",
    "plt.savefig(\"./sd_h_dis_fig\")"
   ]
  },
  {
   "cell_type": "code",
   "execution_count": 19,
   "id": "a9b5ba81",
   "metadata": {},
   "outputs": [
    {
     "data": {
      "image/png": "[encoded data removed]",
      "text/plain": [
       "<Figure size 640x480 with 1 Axes>"
      ]
     },
     "metadata": {},
     "output_type": "display_data"
    }
   ],
   "source": [
    "# Category\n",
    "ct_dis=df[\"category\"].value_counts()\n",
    "rects=plt.bar(range(1,len(ct_dis.index)+1),ct_dis.values)\n",
    "plt.title(\"Category DISTRIBUTE\")\n",
    "plt.xlabel(\"Category\")\n",
    "plt.ylabel(\"Quantity\")\n",
    "plt.xticks(range(1,len(ct_dis.index)+1),ct_dis.index)\n",
    "plt.grid()\n",
    "autolabel(rects)\n",
    "plt.savefig(\"./ct_dis_fig\")"
   ]
  },
  {
   "cell_type": "code",
   "execution_count": 20,
   "id": "e91f909b",
   "metadata": {},
   "outputs": [
    {
     "name": "stdout",
     "output_type": "stream",
     "text": [
      "START PLACE:\n",
      " Cary                201\n",
      "Unknown Location    148\n",
      "Morrisville          85\n",
      "Whitebridge          68\n",
      "Islamabad            57\n",
      "Durham               37\n",
      "Lahore               36\n",
      "Raleigh              28\n",
      "Kar?chi              27\n",
      "Westpark Place       17\n",
      "Name: start, dtype: int64\n"
     ]
    }
   ],
   "source": [
    "# Starting Place\n",
    "st_dis=df[\"start\"].value_counts()\n",
    "st_dis.sort_values(inplace=True,ascending=False)\n",
    "st_dis=st_dis.iloc[:10]\n",
    "print(\"START PLACE:\\n\",st_dis)"
   ]
  },
  {
   "cell_type": "code",
   "execution_count": 21,
   "id": "09d16342",
   "metadata": {},
   "outputs": [
    {
     "name": "stdout",
     "output_type": "stream",
     "text": [
      "STOP PLACE:\n",
      " Cary                203\n",
      "Unknown Location    149\n",
      "Morrisville          84\n",
      "Whitebridge          65\n",
      "Islamabad            58\n",
      "Durham               36\n",
      "Lahore               36\n",
      "Raleigh              29\n",
      "Kar?chi              26\n",
      "Apex                 17\n",
      "Name: stop, dtype: int64\n"
     ]
    }
   ],
   "source": [
    "# Stopping Place\n",
    "stp_dis=df[\"stop\"].value_counts()\n",
    "stp_dis.sort_values(ascending=False)\n",
    "stp_dis=stp_dis.iloc[:10]\n",
    "print(\"STOP PLACE:\\n\",stp_dis)"
   ]
  },
  {
   "cell_type": "code",
   "execution_count": 23,
   "id": "b2c71c75",
   "metadata": {},
   "outputs": [
    {
     "name": "stdout",
     "output_type": "stream",
     "text": [
      "Miles:\n",
      " <=5      502\n",
      "5-10     338\n",
      "10-15    161\n",
      ">20       83\n",
      "15-20     71\n",
      "dtype: int64\n"
     ]
    },
    {
     "data": {
      "image/png": "[encoded data removed]",
      "text/plain": [
       "<Figure size 640x480 with 1 Axes>"
      ]
     },
     "metadata": {},
     "output_type": "display_data"
    }
   ],
   "source": [
    "# Miles\n",
    "ml_dis=df[\"miles\"]\n",
    "ml_range_lst=[\"<=5\",\"5-10\",\"10-15\",\"15-20\",\">20\"]\n",
    "ml_dic=dict()\n",
    "for item in ml_range_lst:\n",
    "    ml_dic[item]=0\n",
    "for mile in ml_dis.values:\n",
    "    if mile<=5:\n",
    "        ml_dic[\"<=5\"]+=1\n",
    "    elif mile<=10:\n",
    "        ml_dic[\"5-10\"]+=1\n",
    "    elif mile<=15:\n",
    "        ml_dic[\"10-15\"]+=1\n",
    "    elif mile<=20:\n",
    "        ml_dic[\"15-20\"]+=1\n",
    "    else:\n",
    "        ml_dic[\">20\"]+=1\n",
    "ml_dis=pd.Series(ml_dic)\n",
    "ml_dis.sort_values(inplace=True,ascending=False)\n",
    "print(\"Miles:\\n\",ml_dis)\n",
    "rects=plt.bar(range(1,len(ml_dis.index)+1),ml_dis.values)\n",
    "plt.title(\"Miles\")\n",
    "plt.xlabel(\"Miles\")\n",
    "plt.ylabel(\"Quantity\")\n",
    "plt.xticks(range(1,len(ml_dis.index)+1),ml_dis.index)\n",
    "plt.grid()\n",
    "autolabel(rects)\n",
    "plt.savefig(\"./ml_dis_fig\")"
   ]
  },
  {
   "cell_type": "code",
   "execution_count": 24,
   "id": "20446e54",
   "metadata": {},
   "outputs": [
    {
     "name": "stdout",
     "output_type": "stream",
     "text": [
      "PURPOSE:\n",
      " Meeting            187\n",
      "Meal/Entertain     160\n",
      "Errand/Supplies    128\n",
      "Customer Visit     101\n",
      "Temporary Site      50\n",
      "Between Offices     18\n",
      "Moving               4\n",
      "Airport/Travel       3\n",
      "Charity ($)          1\n",
      "Commute              1\n",
      "Name: purpose, dtype: int64\n"
     ]
    }
   ],
   "source": [
    "# Purpose\n",
    "pp_dis=df[\"purpose\"].value_counts()\n",
    "pp_dis.sort_values(ascending=False)\n",
    "pp_dis=pp_dis.iloc[:10]\n",
    "print(\"PURPOSE:\\n\",pp_dis)"
   ]
  },
  {
   "cell_type": "code",
   "execution_count": 26,
   "id": "23cb675e",
   "metadata": {},
   "outputs": [
    {
     "name": "stdout",
     "output_type": "stream",
     "text": [
      "0      2016-01-01 21:11:00\n",
      "1      2016-02-01 01:25:00\n",
      "2      2016-02-01 20:25:00\n",
      "3      2016-05-01 17:31:00\n",
      "4      2016-06-01 14:42:00\n",
      "               ...        \n",
      "1150   2016-12-31 01:07:00\n",
      "1151   2016-12-31 13:24:00\n",
      "1152   2016-12-31 15:03:00\n",
      "1153   2016-12-31 21:32:00\n",
      "1154   2016-12-31 22:08:00\n",
      "Name: startdate, Length: 1155, dtype: datetime64[ns]\n",
      "          category                   start                   stop  \\\n",
      "0     CAT_Business       START_Fort Pierce       STOP_Fort Pierce   \n",
      "1     CAT_Business       START_Fort Pierce       STOP_Fort Pierce   \n",
      "2     CAT_Business       START_Fort Pierce       STOP_Fort Pierce   \n",
      "3     CAT_Business       START_Fort Pierce       STOP_Fort Pierce   \n",
      "4     CAT_Business       START_Fort Pierce   STOP_West Palm Beach   \n",
      "...            ...                     ...                    ...   \n",
      "1150  CAT_Business           START_Kar?chi           STOP_Kar?chi   \n",
      "1151  CAT_Business           START_Kar?chi  STOP_Unknown Location   \n",
      "1152  CAT_Business  START_Unknown Location  STOP_Unknown Location   \n",
      "1153  CAT_Business        START_Katunayake           STOP_Gampaha   \n",
      "1154  CAT_Business           START_Gampaha         STOP_Ilukwatta   \n",
      "\n",
      "              purpose startmonth starthour milesrange  \n",
      "0      Meal/Entertain        M_1      H_21       5-10  \n",
      "1                 NaN        M_2       H_1       5-10  \n",
      "2     Errand/Supplies        M_2      H_20         <5  \n",
      "3             Meeting        M_5      H_17         <5  \n",
      "4      Customer Visit        M_6      H_14        >20  \n",
      "...               ...        ...       ...        ...  \n",
      "1150          Meeting       M_12       H_1         <5  \n",
      "1151   Temporary Site       M_12      H_13         <5  \n",
      "1152          Meeting       M_12      H_15      15-20  \n",
      "1153   Temporary Site       M_12      H_21       5-10  \n",
      "1154   Temporary Site       M_12      H_22        >20  \n",
      "\n",
      "[1155 rows x 7 columns]\n",
      "(1155, 7)\n"
     ]
    }
   ],
   "source": [
    "# Association Analysis\n",
    "#Relational Analysis：SSupport & Confidence\n",
    "#Rebuild the df.\n",
    "new_df=df.copy()\n",
    "new_df[\"start\"]=[\"START_\"+str(s) for s in df[\"start\"].values]\n",
    "new_df[\"stop\"]=[\"STOP_\"+str(s) for s in df[\"stop\"].values]\n",
    "new_df[\"category\"]=[\"CAT_\"+str(s) for s in df[\"category\"].values]\n",
    "new_df[\"startmonth\"]=[\"M_\"+str(s) for s in df[\"startdate\"].dt.month.values]\n",
    "new_df[\"starthour\"]=[\"H_\"+str(s) for s in df[\"startdate\"].dt.hour.values]\n",
    "tsf_miles=[]\n",
    "for mile in df[\"miles\"].values:\n",
    "    if mile < 5.0:\n",
    "        tsf_miles.append(\"<5\")\n",
    "    elif mile < 10.0:\n",
    "        tsf_miles.append(\"5-10\")\n",
    "    elif mile < 15.0:\n",
    "        tsf_miles.append(\"10-15\")\n",
    "    elif mile < 20.0:\n",
    "        tsf_miles.append(\"15-20\")\n",
    "    else:\n",
    "        tsf_miles.append(\">20\")\n",
    "new_df[\"milesrange\"]=pd.Series(tsf_miles)\n",
    "print(new_df[\"startdate\"])\n",
    "new_df.drop(\"startdate\",axis=1,inplace=True)\n",
    "new_df.drop(\"enddate\",axis=1,inplace=True)\n",
    "new_df.drop(\"miles\",axis=1,inplace=True)\n",
    "print(new_df)\n",
    "print(new_df.shape)"
   ]
  },
  {
   "cell_type": "code",
   "execution_count": 27,
   "id": "59e462ae",
   "metadata": {},
   "outputs": [],
   "source": [
    "apr_itms=[]\n",
    "for item in new_df.values:\n",
    "    item=list(item)\n",
    "    if str(item[3])==\"nan\":\n",
    "        item.remove(item[3])\n",
    "    if \"Unknown\" in item[2]:\n",
    "        item.remove(item[2])\n",
    "    if \"Unknown\" in item[1]:\n",
    "        item.remove(item[1])\n",
    "    apr_itms.append(item)"
   ]
  },
  {
   "cell_type": "code",
   "execution_count": 28,
   "id": "863514b4",
   "metadata": {},
   "outputs": [],
   "source": [
    "# Applied APRIORI Algorithm\n",
    "#Support&Confidence\n",
    "from itertools import combinations\n",
    "def comb(lst):\n",
    "    ret=[]\n",
    "    for i in range(1,len(lst)+1):\n",
    "        ret+=list(combinations(lst,i))\n",
    "    return ret\n",
    "class AprLayer(object):\n",
    "    d=dict()\n",
    "    def __init__(self):\n",
    "        self.d=dict()\n",
    "class AprNode(object):\n",
    "    s=set()\n",
    "    size=0\n",
    "    num=0\n",
    "    lnk_nodes=dict()\n",
    "    def __init__(self,node):\n",
    "        self.s=set(node)\n",
    "        self.size=len(self.s)\n",
    "        self.lnk_nodes=dict()\n",
    "        self.num=0\n",
    "    def __hash__(self):\n",
    "        return hash(\"__\".join(sorted([str(itm) for itm in list(self.s)])))\n",
    "    def __eq__(self, other):  \n",
    "        if \"__\".join(sorted([str(itm) for itm in list(self.s)]))==\"__\".join(sorted([str(itm) for itm in list(other.s)])):  \n",
    "            return True  \n",
    "        return False\n",
    "    def isSubnode(self,node):\n",
    "        return self.s.issubset(node.s)\n",
    "    def incNum(self,num=1):\n",
    "        self.num+=num\n",
    "    def addLnk(self,node):\n",
    "        self.lnk_nodes[node]=node.s\n",
    "\n",
    "class AprBlk():\n",
    "    apr_layers=dict()\n",
    "    data_num=0\n",
    "    def __init__(self,data):\n",
    "        cnt=0\n",
    "        self.data_num=len(data)\n",
    "        for datum in data:\n",
    "            cnt+=1\n",
    "            datum=comb(datum)\n",
    "            nodes=[AprNode(da) for da in datum]\n",
    "            for node in nodes:\n",
    "                if not node.size in self.apr_layers:\n",
    "                    self.apr_layers[node.size]=AprLayer()\n",
    "                if not node in self.apr_layers[node.size].d:\n",
    "                    self.apr_layers[node.size].d[node]=node\n",
    "                self.apr_layers[node.size].d[node].incNum()\n",
    "            for node in nodes:\n",
    "                if node.size==1:\n",
    "                    continue\n",
    "                for sn in node.s:\n",
    "                    sub_n=AprNode(node.s-set([sn]))\n",
    "                    self.apr_layers[node.size-1].d[sub_n].addLnk(node)\n",
    "            #        \n",
    "            #max_size=max(list(self.apr_layers.keys()))\n",
    "            #for i in range(1,max_size):\n",
    "            #    for subnode in self.apr_layers[i].d:\n",
    "            #        for bignode in self.apr_layers[i+1].d:\n",
    "            #            if subnode.isSubnode(bignode):\n",
    "            #                subnode.addLnk(bignode)\n",
    "    def getFreqItems(self,thd=10,hd=1):\n",
    "        freq_items=[]\n",
    "        for layer in self.apr_layers:\n",
    "            for node in self.apr_layers[layer].d:\n",
    "                if self.apr_layers[layer].d[node].num<thd:\n",
    "                    continue\n",
    "                freq_items.append((self.apr_layers[layer].d[node].s,self.apr_layers[layer].d[node].num))\n",
    "        freq_items.sort(key=lambda x:x[1],reverse = True)\n",
    "        return freq_items[:hd]\n",
    "    def getLowConf(self,h_thd=10,l_thd=1,hd=1):\n",
    "        low_confidence=[]\n",
    "        for layer in self.apr_layers:\n",
    "            for node in self.apr_layers[layer].d:\n",
    "                if self.apr_layers[layer].d[node].num<h_thd:\n",
    "                    continue\n",
    "                for lnk_node in node.lnk_nodes:\n",
    "                    if lnk_node.num<l_thd:\n",
    "                        continue\n",
    "                    conf=float(lnk_node.num)/float(node.num)\n",
    "                    low_confidence.append([node.s,node.num,lnk_node.s,lnk_node.num,conf])\n",
    "        low_confidence.sort(key=lambda x:x[4])\n",
    "        return low_confidence[:hd]"
   ]
  },
  {
   "cell_type": "code",
   "execution_count": 29,
   "id": "8a8e9c66",
   "metadata": {},
   "outputs": [
    {
     "name": "stdout",
     "output_type": "stream",
     "text": [
      "[({'CAT_Business'}, 1078), ({'<5'}, 496), ({'<5', 'CAT_Business'}, 452), ({'5-10'}, 341), ({'5-10', 'CAT_Business'}, 326), ({'STOP_Cary'}, 203), ({'START_Cary'}, 201), ({'START_Cary', 'CAT_Business'}, 198), ({'STOP_Cary', 'CAT_Business'}, 197), ({'Meeting'}, 187), ({'Meeting', 'CAT_Business'}, 187), ({'10-15'}, 163), ({'Meal/Entertain'}, 160), ({'Meal/Entertain', 'CAT_Business'}, 160), ({'CAT_Business', '10-15'}, 155), ({'M_12'}, 151), ({'M_12', 'CAT_Business'}, 148), ({'Errand/Supplies'}, 128), ({'Errand/Supplies', 'CAT_Business'}, 128), ({'M_8'}, 127), ({'M_8', 'CAT_Business'}, 126), ({'M_10'}, 117), ({'M_10', 'CAT_Business'}, 117), ({'M_2'}, 105), ({'M_7'}, 105), ({'M_3'}, 104), ({'Customer Visit'}, 101), ({'Customer Visit', 'CAT_Business'}, 101), ({'M_6'}, 99), ({'<5', 'Errand/Supplies'}, 99)]\n"
     ]
    },
    {
     "data": {
      "image/png": "[encoded data removed]",
      "text/plain": [
       "<Figure size 640x480 with 1 Axes>"
      ]
     },
     "metadata": {},
     "output_type": "display_data"
    }
   ],
   "source": [
    "apr_blk=AprBlk(apr_itms)\n",
    "freq_items=apr_blk.getFreqItems(thd=10,hd=30)\n",
    "print(freq_items)\n",
    "freq_x=[\"_\".join(sorted(list(s[0]))) for s in freq_items]\n",
    "freq_y=[s[1] for s in freq_items]\n",
    "plt.bar(range(1,len(freq_items)+1),freq_y)\n",
    "plt.title(\"Freq Items\")\n",
    "plt.xlabel(\"Items\")\n",
    "plt.ylabel(\"Quantity\")\n",
    "#plt.xticks(range(1,len(freq_x)+1),freq_x)\n",
    "plt.grid()\n",
    "#autolabel(rects)\n",
    "plt.savefig(\"./ass_ana_fig\")"
   ]
  },
  {
   "cell_type": "code",
   "execution_count": 30,
   "id": "36e68ef6",
   "metadata": {},
   "outputs": [
    {
     "name": "stdout",
     "output_type": "stream",
     "text": [
      "[[{'CAT_Business'}, 1078, {'STOP_Midtown', 'CAT_Business'}, 10, 0.00927643784786642], [{'CAT_Business'}, 1078, {'START_R?walpindi', 'CAT_Business'}, 10, 0.00927643784786642], [{'CAT_Business'}, 1078, {'START_Emeryville', 'CAT_Business'}, 10, 0.00927643784786642], [{'CAT_Business'}, 1078, {'CAT_Business', 'START_Kenner'}, 10, 0.00927643784786642], [{'CAT_Business'}, 1078, {'STOP_New Orleans', 'CAT_Business'}, 10, 0.00927643784786642], [{'CAT_Business'}, 1078, {'START_New Orleans', 'CAT_Business'}, 10, 0.00927643784786642], [{'CAT_Business'}, 1078, {'STOP_Westpark Place', 'CAT_Business'}, 12, 0.011131725417439703], [{'CAT_Business'}, 1078, {'H_7', 'CAT_Business'}, 12, 0.011131725417439703], [{'CAT_Business'}, 1078, {'CAT_Business', 'START_Midtown'}, 13, 0.012059369202226345], [{'CAT_Business'}, 1078, {'CAT_Business', 'STOP_R?walpindi'}, 13, 0.012059369202226345], [{'CAT_Business'}, 1078, {'START_Westpark Place', 'CAT_Business'}, 15, 0.013914656771799629], [{'CAT_Business'}, 1078, {'CAT_Business', 'STOP_Berkeley'}, 16, 0.014842300556586271], [{'CAT_Business'}, 1078, {'START_Berkeley', 'CAT_Business'}, 16, 0.014842300556586271], [{'CAT_Business'}, 1078, {'H_0', 'CAT_Business'}, 17, 0.015769944341372914], [{'CAT_Business'}, 1078, {'CAT_Business', 'STOP_Apex'}, 17, 0.015769944341372914], [{'CAT_Business'}, 1078, {'START_Apex', 'CAT_Business'}, 17, 0.015769944341372914], [{'CAT_Business'}, 1078, {'Between Offices', 'CAT_Business'}, 18, 0.016697588126159554], [{'<5'}, 496, {'STOP_Edgehill Farms', '<5'}, 10, 0.020161290322580645], [{'<5'}, 496, {'<5', 'H_0'}, 10, 0.020161290322580645], [{'CAT_Business'}, 1078, {'CAT_Business', 'H_23'}, 22, 0.02040816326530612], [{'CAT_Business'}, 1078, {'STOP_Kar?chi', 'CAT_Business'}, 26, 0.02411873840445269], [{'<5'}, 496, {'<5', 'H_9'}, 12, 0.024193548387096774], [{'<5'}, 496, {'H_8', '<5'}, 12, 0.024193548387096774], [{'<5', 'CAT_Business'}, 452, {'STOP_Westpark Place', '<5', 'CAT_Business'}, 11, 0.024336283185840708], [{'<5', 'CAT_Business'}, 452, {'<5', 'H_9', 'CAT_Business'}, 11, 0.024336283185840708], [{'<5', 'CAT_Business'}, 452, {'<5', 'M_9', 'CAT_Business'}, 11, 0.024336283185840708], [{'CAT_Business'}, 1078, {'START_Kar?chi', 'CAT_Business'}, 27, 0.02504638218923933], [{'CAT_Business'}, 1078, {'START_Raleigh', 'CAT_Business'}, 28, 0.025974025974025976], [{'<5'}, 496, {'<5', 'M_9'}, 13, 0.02620967741935484], [{'<5'}, 496, {'<5', 'H_22'}, 13, 0.02620967741935484]]\n"
     ]
    }
   ],
   "source": [
    "print(apr_blk.getLowConf(h_thd=10,l_thd=10,hd=30))"
   ]
  },
  {
   "cell_type": "code",
   "execution_count": 31,
   "id": "00438fab",
   "metadata": {},
   "outputs": [
    {
     "name": "stdout",
     "output_type": "stream",
     "text": [
      "0       0.850000\n",
      "1       0.416667\n",
      "2       0.369231\n",
      "3       0.335714\n",
      "4       0.950746\n",
      "          ...   \n",
      "1150    0.100000\n",
      "1151    0.216667\n",
      "1152    0.462857\n",
      "1153    0.355556\n",
      "1154    0.467961\n",
      "Length: 1155, dtype: float64\n"
     ]
    }
   ],
   "source": [
    "df[\"enddate\"]=pd.to_datetime(df[\"enddate\"])\n",
    "speed=df[\"miles\"]/((df[\"enddate\"]-df[\"startdate\"]).dt.seconds/60)\n",
    "print(speed)"
   ]
  },
  {
   "cell_type": "code",
   "execution_count": 33,
   "id": "3163e54d",
   "metadata": {},
   "outputs": [
    {
     "name": "stdout",
     "output_type": "stream",
     "text": [
      "               startdate             enddate  category             start  \\\n",
      "0    2016-01-01 21:11:00 2016-01-01 21:17:00  Business       Fort Pierce   \n",
      "1    2016-02-01 01:25:00 2016-02-01 01:37:00  Business       Fort Pierce   \n",
      "2    2016-02-01 20:25:00 2016-02-01 20:38:00  Business       Fort Pierce   \n",
      "3    2016-05-01 17:31:00 2016-05-01 17:45:00  Business       Fort Pierce   \n",
      "4    2016-06-01 14:42:00 2016-06-01 15:49:00  Business       Fort Pierce   \n",
      "...                  ...                 ...       ...               ...   \n",
      "1150 2016-12-31 01:07:00 2016-12-31 01:14:00  Business           Kar?chi   \n",
      "1151 2016-12-31 13:24:00 2016-12-31 13:42:00  Business           Kar?chi   \n",
      "1152 2016-12-31 15:03:00 2016-12-31 15:38:00  Business  Unknown Location   \n",
      "1153 2016-12-31 21:32:00 2016-12-31 21:50:00  Business        Katunayake   \n",
      "1154 2016-12-31 22:08:00 2016-12-31 23:51:00  Business           Gampaha   \n",
      "\n",
      "                  stop  miles          purpose     speed  starthour  \n",
      "0          Fort Pierce    5.1   Meal/Entertain  0.850000         21  \n",
      "1          Fort Pierce    5.0              NaN  0.416667          1  \n",
      "2          Fort Pierce    4.8  Errand/Supplies  0.369231         20  \n",
      "3          Fort Pierce    4.7          Meeting  0.335714         17  \n",
      "4      West Palm Beach   63.7   Customer Visit  0.950746         14  \n",
      "...                ...    ...              ...       ...        ...  \n",
      "1150           Kar?chi    0.7          Meeting  0.100000          1  \n",
      "1151  Unknown Location    3.9   Temporary Site  0.216667         13  \n",
      "1152  Unknown Location   16.2          Meeting  0.462857         15  \n",
      "1153           Gampaha    6.4   Temporary Site  0.355556         21  \n",
      "1154         Ilukwatta   48.2   Temporary Site  0.467961         22  \n",
      "\n",
      "[1151 rows x 9 columns]\n",
      "starthour\n",
      "0     0.373527\n",
      "1     0.420748\n",
      "2     0.858389\n",
      "3     0.617056\n",
      "5     0.634728\n",
      "6     0.583124\n",
      "7     0.461701\n",
      "8     0.482437\n",
      "9     0.428415\n",
      "10    0.543949\n",
      "11    0.359032\n",
      "12    0.632759\n",
      "13    0.403674\n",
      "14    0.356058\n",
      "15    0.381134\n",
      "16    0.354178\n",
      "17    0.462446\n",
      "18    0.514159\n",
      "19    0.421995\n",
      "20    0.438498\n",
      "21    0.530169\n",
      "22    0.430827\n",
      "23    0.500916\n",
      "Name: speed, dtype: float64\n"
     ]
    },
    {
     "data": {
      "image/png": "[encoded data removed]",
      "text/plain": [
       "<Figure size 640x480 with 1 Axes>"
      ]
     },
     "metadata": {},
     "output_type": "display_data"
    }
   ],
   "source": [
    "df[\"speed\"]=speed\n",
    "df[\"starthour\"]=df[\"startdate\"].dt.hour\n",
    "print(df[df[\"speed\"]!=np.inf])\n",
    "spd_df=df[df[\"speed\"]!=np.inf].groupby([\"starthour\"])[\"speed\"].mean()\n",
    "print(spd_df)\n",
    "\n",
    "#rects=plt.bar(range(0,len(spd_df.index)),spd_df.values)\n",
    "rects=plt.bar(spd_df.index,spd_df.values)\n",
    "plt.title(\"Speed\")\n",
    "plt.xlabel(\"Time(Hour)\")\n",
    "plt.ylabel(\"Speed[Mile(s)/min]\")\n",
    "plt.xticks(spd_df.index)\n",
    "plt.grid()\n",
    "plt.savefig(\"./speed_fig\")"
   ]
  }
 ],
 "metadata": {
  "kernelspec": {
   "display_name": "Python 3 (ipykernel)",
   "language": "python",
   "name": "python3"
  },
  "language_info": {
   "codemirror_mode": {
    "name": "ipython",
    "version": 3
   },
   "file_extension": ".py",
   "mimetype": "text/x-python",
   "name": "python",
   "nbconvert_exporter": "python",
   "pygments_lexer": "ipython3",
   "version": "3.9.13"
  }
 },
 "nbformat": 4,
 "nbformat_minor": 5
}
