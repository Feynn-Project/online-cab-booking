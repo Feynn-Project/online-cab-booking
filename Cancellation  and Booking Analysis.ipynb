{
 "cells": [
  {
   "cell_type": "code",
   "execution_count": 96,
   "id": "5204c972",
   "metadata": {},
   "outputs": [],
   "source": [
    "import numpy as np\n",
    "import pandas as pd\n",
    "import matplotlib.pyplot as plt \n",
    "import seaborn as sns\n",
    "from geopy import distance"
   ]
  },
  {
   "cell_type": "code",
   "execution_count": 97,
   "id": "22688954",
   "metadata": {},
   "outputs": [],
   "source": [
    "df=pd.read_csv('YourCabs_training.csv')"
   ]
  },
  {
   "cell_type": "code",
   "execution_count": 98,
   "id": "032fe1bb",
   "metadata": {},
   "outputs": [
    {
     "data": {
      "text/html": [
       "<div>\n",
       "<style scoped>\n",
       "    .dataframe tbody tr th:only-of-type {\n",
       "        vertical-align: middle;\n",
       "    }\n",
       "\n",
       "    .dataframe tbody tr th {\n",
       "        vertical-align: top;\n",
       "    }\n",
       "\n",
       "    .dataframe thead th {\n",
       "        text-align: right;\n",
       "    }\n",
       "</style>\n",
       "<table border=\"1\" class=\"dataframe\">\n",
       "  <thead>\n",
       "    <tr style=\"text-align: right;\">\n",
       "      <th></th>\n",
       "      <th>id</th>\n",
       "      <th>user_id</th>\n",
       "      <th>vehicle_model_id</th>\n",
       "      <th>package_id</th>\n",
       "      <th>travel_type_id</th>\n",
       "      <th>from_area_id</th>\n",
       "      <th>to_area_id</th>\n",
       "      <th>from_city_id</th>\n",
       "      <th>to_city_id</th>\n",
       "      <th>from_date</th>\n",
       "      <th>to_date</th>\n",
       "      <th>online_booking</th>\n",
       "      <th>mobile_site_booking</th>\n",
       "      <th>booking_created</th>\n",
       "      <th>from_lat</th>\n",
       "      <th>from_long</th>\n",
       "      <th>to_lat</th>\n",
       "      <th>to_long</th>\n",
       "      <th>Car_Cancellation</th>\n",
       "      <th>Cost_of_error</th>\n",
       "    </tr>\n",
       "  </thead>\n",
       "  <tbody>\n",
       "    <tr>\n",
       "      <th>0</th>\n",
       "      <td>132512</td>\n",
       "      <td>22177</td>\n",
       "      <td>28</td>\n",
       "      <td>NaN</td>\n",
       "      <td>2</td>\n",
       "      <td>83.0</td>\n",
       "      <td>448.0</td>\n",
       "      <td>NaN</td>\n",
       "      <td>NaN</td>\n",
       "      <td>1/1/2013 2:00</td>\n",
       "      <td>NaN</td>\n",
       "      <td>0</td>\n",
       "      <td>0</td>\n",
       "      <td>1/1/2013 1:39</td>\n",
       "      <td>12.924150</td>\n",
       "      <td>77.672290</td>\n",
       "      <td>12.927320</td>\n",
       "      <td>77.635750</td>\n",
       "      <td>0</td>\n",
       "      <td>1.0</td>\n",
       "    </tr>\n",
       "    <tr>\n",
       "      <th>1</th>\n",
       "      <td>132513</td>\n",
       "      <td>21413</td>\n",
       "      <td>12</td>\n",
       "      <td>NaN</td>\n",
       "      <td>2</td>\n",
       "      <td>1010.0</td>\n",
       "      <td>540.0</td>\n",
       "      <td>NaN</td>\n",
       "      <td>NaN</td>\n",
       "      <td>1/1/2013 9:00</td>\n",
       "      <td>NaN</td>\n",
       "      <td>0</td>\n",
       "      <td>0</td>\n",
       "      <td>1/1/2013 2:25</td>\n",
       "      <td>12.966910</td>\n",
       "      <td>77.749350</td>\n",
       "      <td>12.927680</td>\n",
       "      <td>77.626640</td>\n",
       "      <td>0</td>\n",
       "      <td>1.0</td>\n",
       "    </tr>\n",
       "    <tr>\n",
       "      <th>2</th>\n",
       "      <td>132514</td>\n",
       "      <td>22178</td>\n",
       "      <td>12</td>\n",
       "      <td>NaN</td>\n",
       "      <td>2</td>\n",
       "      <td>1301.0</td>\n",
       "      <td>1034.0</td>\n",
       "      <td>NaN</td>\n",
       "      <td>NaN</td>\n",
       "      <td>1/1/2013 3:30</td>\n",
       "      <td>NaN</td>\n",
       "      <td>0</td>\n",
       "      <td>0</td>\n",
       "      <td>1/1/2013 3:08</td>\n",
       "      <td>12.937222</td>\n",
       "      <td>77.626915</td>\n",
       "      <td>13.047926</td>\n",
       "      <td>77.597766</td>\n",
       "      <td>0</td>\n",
       "      <td>1.0</td>\n",
       "    </tr>\n",
       "    <tr>\n",
       "      <th>3</th>\n",
       "      <td>132515</td>\n",
       "      <td>13034</td>\n",
       "      <td>12</td>\n",
       "      <td>NaN</td>\n",
       "      <td>2</td>\n",
       "      <td>768.0</td>\n",
       "      <td>398.0</td>\n",
       "      <td>NaN</td>\n",
       "      <td>NaN</td>\n",
       "      <td>1/1/2013 5:45</td>\n",
       "      <td>NaN</td>\n",
       "      <td>0</td>\n",
       "      <td>0</td>\n",
       "      <td>1/1/2013 4:39</td>\n",
       "      <td>12.989990</td>\n",
       "      <td>77.553320</td>\n",
       "      <td>12.971430</td>\n",
       "      <td>77.639140</td>\n",
       "      <td>0</td>\n",
       "      <td>1.0</td>\n",
       "    </tr>\n",
       "    <tr>\n",
       "      <th>4</th>\n",
       "      <td>132517</td>\n",
       "      <td>22180</td>\n",
       "      <td>12</td>\n",
       "      <td>NaN</td>\n",
       "      <td>2</td>\n",
       "      <td>1365.0</td>\n",
       "      <td>849.0</td>\n",
       "      <td>NaN</td>\n",
       "      <td>NaN</td>\n",
       "      <td>1/1/2013 9:00</td>\n",
       "      <td>NaN</td>\n",
       "      <td>0</td>\n",
       "      <td>0</td>\n",
       "      <td>1/1/2013 7:53</td>\n",
       "      <td>12.845653</td>\n",
       "      <td>77.677925</td>\n",
       "      <td>12.954340</td>\n",
       "      <td>77.600720</td>\n",
       "      <td>0</td>\n",
       "      <td>1.0</td>\n",
       "    </tr>\n",
       "  </tbody>\n",
       "</table>\n",
       "</div>"
      ],
      "text/plain": [
       "       id  user_id  vehicle_model_id  package_id  travel_type_id  \\\n",
       "0  132512    22177                28         NaN               2   \n",
       "1  132513    21413                12         NaN               2   \n",
       "2  132514    22178                12         NaN               2   \n",
       "3  132515    13034                12         NaN               2   \n",
       "4  132517    22180                12         NaN               2   \n",
       "\n",
       "   from_area_id  to_area_id  from_city_id  to_city_id      from_date  to_date  \\\n",
       "0          83.0       448.0           NaN         NaN  1/1/2013 2:00      NaN   \n",
       "1        1010.0       540.0           NaN         NaN  1/1/2013 9:00      NaN   \n",
       "2        1301.0      1034.0           NaN         NaN  1/1/2013 3:30      NaN   \n",
       "3         768.0       398.0           NaN         NaN  1/1/2013 5:45      NaN   \n",
       "4        1365.0       849.0           NaN         NaN  1/1/2013 9:00      NaN   \n",
       "\n",
       "   online_booking  mobile_site_booking booking_created   from_lat  from_long  \\\n",
       "0               0                    0   1/1/2013 1:39  12.924150  77.672290   \n",
       "1               0                    0   1/1/2013 2:25  12.966910  77.749350   \n",
       "2               0                    0   1/1/2013 3:08  12.937222  77.626915   \n",
       "3               0                    0   1/1/2013 4:39  12.989990  77.553320   \n",
       "4               0                    0   1/1/2013 7:53  12.845653  77.677925   \n",
       "\n",
       "      to_lat    to_long  Car_Cancellation  Cost_of_error  \n",
       "0  12.927320  77.635750                 0            1.0  \n",
       "1  12.927680  77.626640                 0            1.0  \n",
       "2  13.047926  77.597766                 0            1.0  \n",
       "3  12.971430  77.639140                 0            1.0  \n",
       "4  12.954340  77.600720                 0            1.0  "
      ]
     },
     "execution_count": 98,
     "metadata": {},
     "output_type": "execute_result"
    }
   ],
   "source": [
    "df.head()"
   ]
  },
  {
   "cell_type": "code",
   "execution_count": 99,
   "id": "0b42ba70",
   "metadata": {},
   "outputs": [
    {
     "data": {
      "text/plain": [
       "id                         0\n",
       "user_id                    0\n",
       "vehicle_model_id           0\n",
       "package_id             35881\n",
       "travel_type_id             0\n",
       "from_area_id              88\n",
       "to_area_id              9138\n",
       "from_city_id           27086\n",
       "to_city_id             41843\n",
       "from_date                  0\n",
       "to_date                17890\n",
       "online_booking             0\n",
       "mobile_site_booking        0\n",
       "booking_created            0\n",
       "from_lat                  93\n",
       "from_long                 93\n",
       "to_lat                  9138\n",
       "to_long                 9138\n",
       "Car_Cancellation           0\n",
       "Cost_of_error              0\n",
       "dtype: int64"
      ]
     },
     "execution_count": 99,
     "metadata": {},
     "output_type": "execute_result"
    }
   ],
   "source": [
    "df.isna().sum()"
   ]
  },
  {
   "cell_type": "code",
   "execution_count": 100,
   "id": "82d1dfa4",
   "metadata": {},
   "outputs": [
    {
     "data": {
      "text/plain": [
       "(43431, 20)"
      ]
     },
     "execution_count": 100,
     "metadata": {},
     "output_type": "execute_result"
    }
   ],
   "source": [
    "df.shape"
   ]
  },
  {
   "cell_type": "code",
   "execution_count": 101,
   "id": "2d1b5f34",
   "metadata": {},
   "outputs": [],
   "source": [
    "\n",
    "data=df.drop([\"Car_Cancellation\",\"Cost_of_error\"],axis=1)\n",
    "#Selecting our target parametr is Car_cancellation\n",
    "target=df[['Car_Cancellation']]"
   ]
  },
  {
   "cell_type": "code",
   "execution_count": 102,
   "id": "ebafd11e",
   "metadata": {},
   "outputs": [
    {
     "name": "stdout",
     "output_type": "stream",
     "text": [
      "<class 'pandas.core.frame.DataFrame'>\n",
      "RangeIndex: 43431 entries, 0 to 43430\n",
      "Data columns (total 20 columns):\n",
      " #   Column               Non-Null Count  Dtype  \n",
      "---  ------               --------------  -----  \n",
      " 0   id                   43431 non-null  int64  \n",
      " 1   user_id              43431 non-null  int64  \n",
      " 2   vehicle_model_id     43431 non-null  int64  \n",
      " 3   package_id           7550 non-null   float64\n",
      " 4   travel_type_id       43431 non-null  int64  \n",
      " 5   from_area_id         43343 non-null  float64\n",
      " 6   to_area_id           34293 non-null  float64\n",
      " 7   from_city_id         16345 non-null  float64\n",
      " 8   to_city_id           1588 non-null   float64\n",
      " 9   from_date            43431 non-null  object \n",
      " 10  to_date              25541 non-null  float64\n",
      " 11  online_booking       43431 non-null  int64  \n",
      " 12  mobile_site_booking  43431 non-null  int64  \n",
      " 13  booking_created      43431 non-null  object \n",
      " 14  from_lat             43338 non-null  float64\n",
      " 15  from_long            43338 non-null  float64\n",
      " 16  to_lat               34293 non-null  float64\n",
      " 17  to_long              34293 non-null  float64\n",
      " 18  Car_Cancellation     43431 non-null  int64  \n",
      " 19  Cost_of_error        43431 non-null  float64\n",
      "dtypes: float64(11), int64(7), object(2)\n",
      "memory usage: 6.6+ MB\n"
     ]
    }
   ],
   "source": [
    "df.info()"
   ]
  },
  {
   "cell_type": "code",
   "execution_count": 103,
   "id": "b6939107",
   "metadata": {},
   "outputs": [
    {
     "data": {
      "text/plain": [
       "id                     0.000000\n",
       "user_id                0.000000\n",
       "vehicle_model_id       0.000000\n",
       "package_id             0.826161\n",
       "travel_type_id         0.000000\n",
       "from_area_id           0.002026\n",
       "to_area_id             0.210403\n",
       "from_city_id           0.623656\n",
       "to_city_id             0.963436\n",
       "from_date              0.000000\n",
       "to_date                0.411918\n",
       "online_booking         0.000000\n",
       "mobile_site_booking    0.000000\n",
       "booking_created        0.000000\n",
       "from_lat               0.002141\n",
       "from_long              0.002141\n",
       "to_lat                 0.210403\n",
       "to_long                0.210403\n",
       "dtype: float64"
      ]
     },
     "execution_count": 103,
     "metadata": {},
     "output_type": "execute_result"
    }
   ],
   "source": [
    "data.isna().mean()"
   ]
  },
  {
   "cell_type": "code",
   "execution_count": 104,
   "id": "0aa03e05",
   "metadata": {},
   "outputs": [],
   "source": [
    "data=data.drop(['id','user_id','package_id','to_area_id','from_city_id','to_city_id','to_date'],axis=1)"
   ]
  },
  {
   "cell_type": "code",
   "execution_count": 105,
   "id": "5a4fdb8e",
   "metadata": {},
   "outputs": [
    {
     "data": {
      "text/plain": [
       "(43431, 11)"
      ]
     },
     "execution_count": 105,
     "metadata": {},
     "output_type": "execute_result"
    }
   ],
   "source": [
    "data.shape"
   ]
  },
  {
   "cell_type": "code",
   "execution_count": 106,
   "id": "04b0005f",
   "metadata": {},
   "outputs": [
    {
     "data": {
      "text/plain": [
       "vehicle_model_id          0\n",
       "travel_type_id            0\n",
       "from_area_id             88\n",
       "from_date                 0\n",
       "online_booking            0\n",
       "mobile_site_booking       0\n",
       "booking_created           0\n",
       "from_lat                 93\n",
       "from_long                93\n",
       "to_lat                 9138\n",
       "to_long                9138\n",
       "dtype: int64"
      ]
     },
     "execution_count": 106,
     "metadata": {},
     "output_type": "execute_result"
    }
   ],
   "source": [
    "data.isna().sum()"
   ]
  },
  {
   "cell_type": "code",
   "execution_count": 107,
   "id": "004ca77c",
   "metadata": {},
   "outputs": [
    {
     "name": "stdout",
     "output_type": "stream",
     "text": [
      "1044.0\n",
      "12.968887\n",
      "77.63575\n"
     ]
    }
   ],
   "source": [
    "print(data[data['from_lat']==data['from_lat'].median()]['from_area_id'].max())\n",
    "print(data['from_lat'].median())\n",
    "print(data['from_long'].median())"
   ]
  },
  {
   "cell_type": "code",
   "execution_count": 108,
   "id": "338a4540",
   "metadata": {},
   "outputs": [
    {
     "name": "stdout",
     "output_type": "stream",
     "text": [
      "276      1044.0\n",
      "277      1044.0\n",
      "1517     1044.0\n",
      "1668     1044.0\n",
      "3057     1044.0\n",
      "3628     1044.0\n",
      "3826     1044.0\n",
      "4255     1044.0\n",
      "4365     1044.0\n",
      "4619     1044.0\n",
      "4832     1044.0\n",
      "4988     1044.0\n",
      "5179     1044.0\n",
      "7284     1044.0\n",
      "7518     1044.0\n",
      "7694     1044.0\n",
      "8054     1044.0\n",
      "8302     1044.0\n",
      "8401     1044.0\n",
      "10858    1044.0\n",
      "11199    1044.0\n",
      "11202    1044.0\n",
      "11244    1044.0\n",
      "14469    1044.0\n",
      "15858    1044.0\n",
      "15995    1044.0\n",
      "16915    1044.0\n",
      "16916    1044.0\n",
      "17959    1044.0\n",
      "18429    1044.0\n",
      "18658    1044.0\n",
      "21592    1044.0\n",
      "22055    1044.0\n",
      "25121    1044.0\n",
      "26336    1044.0\n",
      "29975    1044.0\n",
      "32812    1044.0\n",
      "35767    1044.0\n",
      "36869    1044.0\n",
      "37378    1044.0\n",
      "39314    1044.0\n",
      "40148    1044.0\n",
      "Name: from_area_id, dtype: float64\n"
     ]
    }
   ],
   "source": [
    "print(data[data['from_lat']==data['from_lat'].median()]['from_area_id'])"
   ]
  },
  {
   "cell_type": "code",
   "execution_count": 109,
   "id": "946bbc80",
   "metadata": {},
   "outputs": [],
   "source": [
    "data['from_lat'].fillna(data['from_lat'].median(),inplace=True)"
   ]
  },
  {
   "cell_type": "code",
   "execution_count": 110,
   "id": "0d96d8c1",
   "metadata": {},
   "outputs": [],
   "source": [
    "data['from_long'].fillna(data['from_long'].median(),inplace=True)"
   ]
  },
  {
   "cell_type": "code",
   "execution_count": 111,
   "id": "67e4f036",
   "metadata": {},
   "outputs": [
    {
     "name": "stdout",
     "output_type": "stream",
     "text": [
      "<class 'pandas.core.frame.DataFrame'>\n",
      "RangeIndex: 43431 entries, 0 to 43430\n",
      "Data columns (total 11 columns):\n",
      " #   Column               Non-Null Count  Dtype  \n",
      "---  ------               --------------  -----  \n",
      " 0   vehicle_model_id     43431 non-null  int64  \n",
      " 1   travel_type_id       43431 non-null  int64  \n",
      " 2   from_area_id         43343 non-null  float64\n",
      " 3   from_date            43431 non-null  object \n",
      " 4   online_booking       43431 non-null  int64  \n",
      " 5   mobile_site_booking  43431 non-null  int64  \n",
      " 6   booking_created      43431 non-null  object \n",
      " 7   from_lat             43431 non-null  float64\n",
      " 8   from_long            43431 non-null  float64\n",
      " 9   to_lat               34293 non-null  float64\n",
      " 10  to_long              34293 non-null  float64\n",
      "dtypes: float64(5), int64(4), object(2)\n",
      "memory usage: 3.6+ MB\n"
     ]
    }
   ],
   "source": [
    "data.info()"
   ]
  },
  {
   "cell_type": "code",
   "execution_count": 112,
   "id": "6c5be5d3",
   "metadata": {},
   "outputs": [],
   "source": [
    "data['from_area_id'].fillna(data[data['from_lat']==data['from_lat'].median()]['from_area_id'].max(),inplace=True)"
   ]
  },
  {
   "cell_type": "code",
   "execution_count": 113,
   "id": "3d3bfa24",
   "metadata": {},
   "outputs": [],
   "source": [
    "data['to_lat'].fillna(df.groupby('from_area_id')['to_lat'].transform('median'),inplace=True)"
   ]
  },
  {
   "cell_type": "code",
   "execution_count": 114,
   "id": "00f3eece",
   "metadata": {},
   "outputs": [],
   "source": [
    "data['to_long'] = data['to_long'].fillna(df.groupby('from_area_id')['to_long'].transform('median'))"
   ]
  },
  {
   "cell_type": "code",
   "execution_count": 115,
   "id": "0046d8f6",
   "metadata": {},
   "outputs": [
    {
     "data": {
      "text/html": [
       "<div>\n",
       "<style scoped>\n",
       "    .dataframe tbody tr th:only-of-type {\n",
       "        vertical-align: middle;\n",
       "    }\n",
       "\n",
       "    .dataframe tbody tr th {\n",
       "        vertical-align: top;\n",
       "    }\n",
       "\n",
       "    .dataframe thead th {\n",
       "        text-align: right;\n",
       "    }\n",
       "</style>\n",
       "<table border=\"1\" class=\"dataframe\">\n",
       "  <thead>\n",
       "    <tr style=\"text-align: right;\">\n",
       "      <th></th>\n",
       "      <th>vehicle_model_id</th>\n",
       "      <th>travel_type_id</th>\n",
       "      <th>from_area_id</th>\n",
       "      <th>from_date</th>\n",
       "      <th>online_booking</th>\n",
       "      <th>mobile_site_booking</th>\n",
       "      <th>booking_created</th>\n",
       "      <th>from_lat</th>\n",
       "      <th>from_long</th>\n",
       "      <th>to_lat</th>\n",
       "      <th>to_long</th>\n",
       "    </tr>\n",
       "  </thead>\n",
       "  <tbody>\n",
       "    <tr>\n",
       "      <th>2158</th>\n",
       "      <td>54</td>\n",
       "      <td>1</td>\n",
       "      <td>483.0</td>\n",
       "      <td>1/25/2013 6:00</td>\n",
       "      <td>1</td>\n",
       "      <td>0</td>\n",
       "      <td>1/24/2013 15:32</td>\n",
       "      <td>12.953020</td>\n",
       "      <td>77.56333</td>\n",
       "      <td>NaN</td>\n",
       "      <td>NaN</td>\n",
       "    </tr>\n",
       "    <tr>\n",
       "      <th>3945</th>\n",
       "      <td>54</td>\n",
       "      <td>1</td>\n",
       "      <td>1397.0</td>\n",
       "      <td>2/10/2013 16:30</td>\n",
       "      <td>1</td>\n",
       "      <td>0</td>\n",
       "      <td>2/10/2013 13:26</td>\n",
       "      <td>12.968887</td>\n",
       "      <td>77.63575</td>\n",
       "      <td>NaN</td>\n",
       "      <td>NaN</td>\n",
       "    </tr>\n",
       "    <tr>\n",
       "      <th>4912</th>\n",
       "      <td>12</td>\n",
       "      <td>1</td>\n",
       "      <td>1397.0</td>\n",
       "      <td>2/23/2013 6:30</td>\n",
       "      <td>1</td>\n",
       "      <td>0</td>\n",
       "      <td>2/19/2013 21:29</td>\n",
       "      <td>12.968887</td>\n",
       "      <td>77.63575</td>\n",
       "      <td>NaN</td>\n",
       "      <td>NaN</td>\n",
       "    </tr>\n",
       "    <tr>\n",
       "      <th>5144</th>\n",
       "      <td>12</td>\n",
       "      <td>1</td>\n",
       "      <td>1397.0</td>\n",
       "      <td>2/22/2013 13:30</td>\n",
       "      <td>1</td>\n",
       "      <td>0</td>\n",
       "      <td>2/22/2013 10:22</td>\n",
       "      <td>12.968887</td>\n",
       "      <td>77.63575</td>\n",
       "      <td>NaN</td>\n",
       "      <td>NaN</td>\n",
       "    </tr>\n",
       "    <tr>\n",
       "      <th>5970</th>\n",
       "      <td>12</td>\n",
       "      <td>1</td>\n",
       "      <td>1397.0</td>\n",
       "      <td>3/4/2013 7:00</td>\n",
       "      <td>0</td>\n",
       "      <td>0</td>\n",
       "      <td>3/2/2013 17:48</td>\n",
       "      <td>12.968887</td>\n",
       "      <td>77.63575</td>\n",
       "      <td>NaN</td>\n",
       "      <td>NaN</td>\n",
       "    </tr>\n",
       "  </tbody>\n",
       "</table>\n",
       "</div>"
      ],
      "text/plain": [
       "      vehicle_model_id  travel_type_id  from_area_id        from_date  \\\n",
       "2158                54               1         483.0   1/25/2013 6:00   \n",
       "3945                54               1        1397.0  2/10/2013 16:30   \n",
       "4912                12               1        1397.0   2/23/2013 6:30   \n",
       "5144                12               1        1397.0  2/22/2013 13:30   \n",
       "5970                12               1        1397.0    3/4/2013 7:00   \n",
       "\n",
       "      online_booking  mobile_site_booking  booking_created   from_lat  \\\n",
       "2158               1                    0  1/24/2013 15:32  12.953020   \n",
       "3945               1                    0  2/10/2013 13:26  12.968887   \n",
       "4912               1                    0  2/19/2013 21:29  12.968887   \n",
       "5144               1                    0  2/22/2013 10:22  12.968887   \n",
       "5970               0                    0   3/2/2013 17:48  12.968887   \n",
       "\n",
       "      from_long  to_lat  to_long  \n",
       "2158   77.56333     NaN      NaN  \n",
       "3945   77.63575     NaN      NaN  \n",
       "4912   77.63575     NaN      NaN  \n",
       "5144   77.63575     NaN      NaN  \n",
       "5970   77.63575     NaN      NaN  "
      ]
     },
     "execution_count": 115,
     "metadata": {},
     "output_type": "execute_result"
    }
   ],
   "source": [
    "data[data['to_lat'].isnull()].head()"
   ]
  },
  {
   "cell_type": "code",
   "execution_count": 116,
   "id": "ef17e27e",
   "metadata": {},
   "outputs": [
    {
     "data": {
      "text/plain": [
       "1397.0    90\n",
       "1396.0     3\n",
       "173.0      2\n",
       "17.0       2\n",
       "483.0      1\n",
       "1215.0     1\n",
       "1265.0     1\n",
       "215.0      1\n",
       "1080.0     1\n",
       "802.0      1\n",
       "1164.0     1\n",
       "178.0      1\n",
       "Name: from_area_id, dtype: int64"
      ]
     },
     "execution_count": 116,
     "metadata": {},
     "output_type": "execute_result"
    }
   ],
   "source": [
    "data[data['to_lat'].isna()]['from_area_id'].value_counts()"
   ]
  },
  {
   "cell_type": "code",
   "execution_count": 117,
   "id": "714e72d5",
   "metadata": {},
   "outputs": [],
   "source": [
    "data['to_lat'].fillna(data['to_lat'].median(), inplace=True)\n",
    "data['to_long'].fillna(data['to_long'].median(), inplace=True)"
   ]
  },
  {
   "cell_type": "code",
   "execution_count": 118,
   "id": "68ff8a53",
   "metadata": {},
   "outputs": [
    {
     "name": "stdout",
     "output_type": "stream",
     "text": [
      "<class 'pandas.core.frame.DataFrame'>\n",
      "RangeIndex: 43431 entries, 0 to 43430\n",
      "Data columns (total 11 columns):\n",
      " #   Column               Non-Null Count  Dtype  \n",
      "---  ------               --------------  -----  \n",
      " 0   vehicle_model_id     43431 non-null  int64  \n",
      " 1   travel_type_id       43431 non-null  int64  \n",
      " 2   from_area_id         43431 non-null  float64\n",
      " 3   from_date            43431 non-null  object \n",
      " 4   online_booking       43431 non-null  int64  \n",
      " 5   mobile_site_booking  43431 non-null  int64  \n",
      " 6   booking_created      43431 non-null  object \n",
      " 7   from_lat             43431 non-null  float64\n",
      " 8   from_long            43431 non-null  float64\n",
      " 9   to_lat               43431 non-null  float64\n",
      " 10  to_long              43431 non-null  float64\n",
      "dtypes: float64(5), int64(4), object(2)\n",
      "memory usage: 3.6+ MB\n"
     ]
    }
   ],
   "source": [
    "data.info()"
   ]
  },
  {
   "cell_type": "code",
   "execution_count": 119,
   "id": "d153bbfb",
   "metadata": {},
   "outputs": [],
   "source": [
    "traveltype=pd.get_dummies(data['travel_type_id'],drop_first=True)"
   ]
  },
  {
   "cell_type": "code",
   "execution_count": 120,
   "id": "44329bad",
   "metadata": {},
   "outputs": [],
   "source": [
    "data=pd.concat([data,traveltype],axis=1)\n",
    "data=data.drop(['travel_type_id'],axis=1)"
   ]
  },
  {
   "cell_type": "code",
   "execution_count": 121,
   "id": "ba3dad2f",
   "metadata": {},
   "outputs": [],
   "source": [
    "data.rename(columns={2:'traveltype_pointtopoint',3:'traveltype_hourly'},inplace=True)"
   ]
  },
  {
   "cell_type": "code",
   "execution_count": 122,
   "id": "c19352e3",
   "metadata": {},
   "outputs": [],
   "source": [
    "def cal_distance(from_lat,from_long,to_lat,to_long):\n",
    "      return distance.distance((from_lat,from_long),(to_lat,to_long)).km"
   ]
  },
  {
   "cell_type": "code",
   "execution_count": 123,
   "id": "26988c8f",
   "metadata": {},
   "outputs": [],
   "source": [
    "data['distance'] = data.apply(lambda row: cal_distance(row['from_lat'],row['from_long'],row['to_lat'],row['to_long']),axis=1)"
   ]
  },
  {
   "cell_type": "code",
   "execution_count": 124,
   "id": "4b1a86d5",
   "metadata": {},
   "outputs": [],
   "source": [
    "data = data.drop(['from_lat','from_long','to_lat','to_long'],axis=1)"
   ]
  },
  {
   "cell_type": "code",
   "execution_count": 125,
   "id": "a34b1817",
   "metadata": {},
   "outputs": [],
   "source": [
    "data['from_date_dt'] = pd.to_datetime(data['from_date']).dt.strftime('%m/%d/%Y')\n",
    "data['from_time_tm'] = pd.to_datetime(data['from_date']).dt.strftime('%H:%M')\n",
    "data['booking_created_dt'] = pd.to_datetime(data['booking_created']).dt.strftime('%m/%d/%Y')\n",
    "data['booking_created_tm'] = pd.to_datetime(data['booking_created']).dt.strftime('%H:%M')"
   ]
  },
  {
   "cell_type": "code",
   "execution_count": 126,
   "id": "5f4bc106",
   "metadata": {},
   "outputs": [],
   "source": [
    "data['from_date_day'] = pd.to_datetime(data['from_date_dt']).dt.day_name()\n",
    "data['booking_created_day'] = pd.to_datetime(data['booking_created_dt']).dt.day_name()\n",
    "data['from_date_month'] = pd.to_datetime(data['from_date_dt']).dt.month_name()\n",
    "data['booking_created_month'] = pd.to_datetime(data['booking_created_dt']).dt.month_name()\n",
    "data['from_date_week'] = np.where((data['from_date_day']=='Saturday') | (data['from_date_day']=='Sunday'),'Weekend','Weekday')\n",
    "data['booking_created_week'] = np.where((data['booking_created_day']=='Saturday') | (data['booking_created_day']=='Sunday'),'Weekend','Weekday')"
   ]
  },
  {
   "cell_type": "code",
   "execution_count": 127,
   "id": "525dfe63",
   "metadata": {},
   "outputs": [],
   "source": [
    "cond = [(pd.to_datetime(data['from_time_tm']).dt.hour.between(5, 8)),\n",
    "        (pd.to_datetime(data['from_time_tm']).dt.hour.between(9, 12)),\n",
    "        (pd.to_datetime(data['from_time_tm']).dt.hour.between(13, 16)),\n",
    "        (pd.to_datetime(data['from_time_tm']).dt.hour.between(17, 20)),\n",
    "        ((pd.to_datetime(data['from_time_tm']).dt.hour.between(21, 24)) | (pd.to_datetime(data['from_time_tm']).dt.hour==0)),\n",
    "        (pd.to_datetime(data['from_time_tm']).dt.hour.between(1, 4))]\n",
    "values = ['Early Morning','Morning','Afternoon','Evening','Night','Late Night']\n",
    "data['from_date_session'] = np.select(cond,values)"
   ]
  },
  {
   "cell_type": "code",
   "execution_count": 128,
   "id": "55cd01e0",
   "metadata": {},
   "outputs": [],
   "source": [
    "cond = [(pd.to_datetime(data['booking_created_tm']).dt.hour.between(5, 8)),\n",
    "        (pd.to_datetime(data['booking_created_tm']).dt.hour.between(9, 12)),\n",
    "        (pd.to_datetime(data['booking_created_tm']).dt.hour.between(13, 16)),\n",
    "        (pd.to_datetime(data['booking_created_tm']).dt.hour.between(17, 20)),\n",
    "        ((pd.to_datetime(data['booking_created_tm']).dt.hour.between(21, 24)) | (pd.to_datetime(data['booking_created_tm']).dt.hour==0)),\n",
    "        (pd.to_datetime(data['booking_created_tm']).dt.hour.between(1, 4))]\n",
    "values = ['Early Morning','Morning','Afternoon','Evening','Night','Late Night']\n",
    "data['booking_created_session'] = np.select(cond,values)"
   ]
  },
  {
   "cell_type": "code",
   "execution_count": 129,
   "id": "f9420b17",
   "metadata": {},
   "outputs": [],
   "source": [
    "data['time_diff'] = (pd.to_datetime(data['from_date']) - pd.to_datetime(data['booking_created'])).astype('timedelta64[m]')"
   ]
  },
  {
   "cell_type": "code",
   "execution_count": 130,
   "id": "3de31b4b",
   "metadata": {},
   "outputs": [
    {
     "data": {
      "text/html": [
       "<div>\n",
       "<style scoped>\n",
       "    .dataframe tbody tr th:only-of-type {\n",
       "        vertical-align: middle;\n",
       "    }\n",
       "\n",
       "    .dataframe tbody tr th {\n",
       "        vertical-align: top;\n",
       "    }\n",
       "\n",
       "    .dataframe thead th {\n",
       "        text-align: right;\n",
       "    }\n",
       "</style>\n",
       "<table border=\"1\" class=\"dataframe\">\n",
       "  <thead>\n",
       "    <tr style=\"text-align: right;\">\n",
       "      <th></th>\n",
       "      <th>vehicle_model_id</th>\n",
       "      <th>from_area_id</th>\n",
       "      <th>from_date</th>\n",
       "      <th>online_booking</th>\n",
       "      <th>mobile_site_booking</th>\n",
       "      <th>booking_created</th>\n",
       "      <th>traveltype_pointtopoint</th>\n",
       "      <th>traveltype_hourly</th>\n",
       "      <th>distance</th>\n",
       "      <th>from_date_dt</th>\n",
       "      <th>...</th>\n",
       "      <th>booking_created_tm</th>\n",
       "      <th>from_date_day</th>\n",
       "      <th>booking_created_day</th>\n",
       "      <th>from_date_month</th>\n",
       "      <th>booking_created_month</th>\n",
       "      <th>from_date_week</th>\n",
       "      <th>booking_created_week</th>\n",
       "      <th>from_date_session</th>\n",
       "      <th>booking_created_session</th>\n",
       "      <th>time_diff</th>\n",
       "    </tr>\n",
       "  </thead>\n",
       "  <tbody>\n",
       "    <tr>\n",
       "      <th>1763</th>\n",
       "      <td>12</td>\n",
       "      <td>1298.0</td>\n",
       "      <td>1/20/2013 14:15</td>\n",
       "      <td>0</td>\n",
       "      <td>0</td>\n",
       "      <td>1/20/2013 15:01</td>\n",
       "      <td>0</td>\n",
       "      <td>1</td>\n",
       "      <td>8.482630</td>\n",
       "      <td>01/20/2013</td>\n",
       "      <td>...</td>\n",
       "      <td>15:01</td>\n",
       "      <td>Sunday</td>\n",
       "      <td>Sunday</td>\n",
       "      <td>January</td>\n",
       "      <td>January</td>\n",
       "      <td>Weekend</td>\n",
       "      <td>Weekend</td>\n",
       "      <td>Afternoon</td>\n",
       "      <td>Afternoon</td>\n",
       "      <td>-46.0</td>\n",
       "    </tr>\n",
       "    <tr>\n",
       "      <th>2990</th>\n",
       "      <td>28</td>\n",
       "      <td>393.0</td>\n",
       "      <td>2/1/2013 9:45</td>\n",
       "      <td>0</td>\n",
       "      <td>0</td>\n",
       "      <td>2/1/2013 13:18</td>\n",
       "      <td>0</td>\n",
       "      <td>1</td>\n",
       "      <td>28.576256</td>\n",
       "      <td>02/01/2013</td>\n",
       "      <td>...</td>\n",
       "      <td>13:18</td>\n",
       "      <td>Friday</td>\n",
       "      <td>Friday</td>\n",
       "      <td>February</td>\n",
       "      <td>February</td>\n",
       "      <td>Weekday</td>\n",
       "      <td>Weekday</td>\n",
       "      <td>Morning</td>\n",
       "      <td>Afternoon</td>\n",
       "      <td>-213.0</td>\n",
       "    </tr>\n",
       "    <tr>\n",
       "      <th>4228</th>\n",
       "      <td>12</td>\n",
       "      <td>571.0</td>\n",
       "      <td>2/13/2013 18:00</td>\n",
       "      <td>0</td>\n",
       "      <td>0</td>\n",
       "      <td>2/13/2013 18:29</td>\n",
       "      <td>0</td>\n",
       "      <td>1</td>\n",
       "      <td>5.866543</td>\n",
       "      <td>02/13/2013</td>\n",
       "      <td>...</td>\n",
       "      <td>18:29</td>\n",
       "      <td>Wednesday</td>\n",
       "      <td>Wednesday</td>\n",
       "      <td>February</td>\n",
       "      <td>February</td>\n",
       "      <td>Weekday</td>\n",
       "      <td>Weekday</td>\n",
       "      <td>Evening</td>\n",
       "      <td>Evening</td>\n",
       "      <td>-29.0</td>\n",
       "    </tr>\n",
       "    <tr>\n",
       "      <th>5303</th>\n",
       "      <td>12</td>\n",
       "      <td>1068.0</td>\n",
       "      <td>2/23/2013 18:00</td>\n",
       "      <td>0</td>\n",
       "      <td>0</td>\n",
       "      <td>2/23/2013 18:03</td>\n",
       "      <td>0</td>\n",
       "      <td>1</td>\n",
       "      <td>3.547502</td>\n",
       "      <td>02/23/2013</td>\n",
       "      <td>...</td>\n",
       "      <td>18:03</td>\n",
       "      <td>Saturday</td>\n",
       "      <td>Saturday</td>\n",
       "      <td>February</td>\n",
       "      <td>February</td>\n",
       "      <td>Weekend</td>\n",
       "      <td>Weekend</td>\n",
       "      <td>Evening</td>\n",
       "      <td>Evening</td>\n",
       "      <td>-3.0</td>\n",
       "    </tr>\n",
       "    <tr>\n",
       "      <th>6106</th>\n",
       "      <td>12</td>\n",
       "      <td>1010.0</td>\n",
       "      <td>3/4/2013 0:30</td>\n",
       "      <td>0</td>\n",
       "      <td>0</td>\n",
       "      <td>3/4/2013 2:00</td>\n",
       "      <td>0</td>\n",
       "      <td>1</td>\n",
       "      <td>10.133543</td>\n",
       "      <td>03/04/2013</td>\n",
       "      <td>...</td>\n",
       "      <td>02:00</td>\n",
       "      <td>Monday</td>\n",
       "      <td>Monday</td>\n",
       "      <td>March</td>\n",
       "      <td>March</td>\n",
       "      <td>Weekday</td>\n",
       "      <td>Weekday</td>\n",
       "      <td>Night</td>\n",
       "      <td>Late Night</td>\n",
       "      <td>-90.0</td>\n",
       "    </tr>\n",
       "  </tbody>\n",
       "</table>\n",
       "<p>5 rows × 22 columns</p>\n",
       "</div>"
      ],
      "text/plain": [
       "      vehicle_model_id  from_area_id        from_date  online_booking  \\\n",
       "1763                12        1298.0  1/20/2013 14:15               0   \n",
       "2990                28         393.0    2/1/2013 9:45               0   \n",
       "4228                12         571.0  2/13/2013 18:00               0   \n",
       "5303                12        1068.0  2/23/2013 18:00               0   \n",
       "6106                12        1010.0    3/4/2013 0:30               0   \n",
       "\n",
       "      mobile_site_booking  booking_created  traveltype_pointtopoint  \\\n",
       "1763                    0  1/20/2013 15:01                        0   \n",
       "2990                    0   2/1/2013 13:18                        0   \n",
       "4228                    0  2/13/2013 18:29                        0   \n",
       "5303                    0  2/23/2013 18:03                        0   \n",
       "6106                    0    3/4/2013 2:00                        0   \n",
       "\n",
       "      traveltype_hourly   distance from_date_dt  ... booking_created_tm  \\\n",
       "1763                  1   8.482630   01/20/2013  ...              15:01   \n",
       "2990                  1  28.576256   02/01/2013  ...              13:18   \n",
       "4228                  1   5.866543   02/13/2013  ...              18:29   \n",
       "5303                  1   3.547502   02/23/2013  ...              18:03   \n",
       "6106                  1  10.133543   03/04/2013  ...              02:00   \n",
       "\n",
       "     from_date_day booking_created_day from_date_month booking_created_month  \\\n",
       "1763        Sunday              Sunday         January               January   \n",
       "2990        Friday              Friday        February              February   \n",
       "4228     Wednesday           Wednesday        February              February   \n",
       "5303      Saturday            Saturday        February              February   \n",
       "6106        Monday              Monday           March                 March   \n",
       "\n",
       "     from_date_week booking_created_week from_date_session  \\\n",
       "1763        Weekend              Weekend         Afternoon   \n",
       "2990        Weekday              Weekday           Morning   \n",
       "4228        Weekday              Weekday           Evening   \n",
       "5303        Weekend              Weekend           Evening   \n",
       "6106        Weekday              Weekday             Night   \n",
       "\n",
       "     booking_created_session time_diff  \n",
       "1763               Afternoon     -46.0  \n",
       "2990               Afternoon    -213.0  \n",
       "4228                 Evening     -29.0  \n",
       "5303                 Evening      -3.0  \n",
       "6106              Late Night     -90.0  \n",
       "\n",
       "[5 rows x 22 columns]"
      ]
     },
     "execution_count": 130,
     "metadata": {},
     "output_type": "execute_result"
    }
   ],
   "source": [
    "data[data['time_diff'] < 0].head()"
   ]
  },
  {
   "cell_type": "code",
   "execution_count": 131,
   "id": "bc864390",
   "metadata": {},
   "outputs": [],
   "source": [
    "data = data.drop(['from_date','booking_created'],axis=1)"
   ]
  },
  {
   "cell_type": "code",
   "execution_count": 132,
   "id": "9ffc1cd6",
   "metadata": {},
   "outputs": [],
   "source": [
    "data = data.drop(['from_date_dt','from_time_tm','booking_created_dt','booking_created_tm'],axis=1)"
   ]
  },
  {
   "cell_type": "code",
   "execution_count": 133,
   "id": "8814657a",
   "metadata": {},
   "outputs": [],
   "source": [
    "data_merged = pd.concat([data,target],axis=1,join='inner')\n",
    "data['from_area_id'] = round(data_merged.groupby('from_area_id')['Car_Cancellation'].sum()/data_merged.groupby('from_area_id')['Car_Cancellation'].count(),2)\n",
    "data['from_area_id'].replace(np.nan,0,inplace=True)"
   ]
  },
  {
   "cell_type": "code",
   "execution_count": 134,
   "id": "54209d5c",
   "metadata": {},
   "outputs": [],
   "source": [
    "cond = [(data['from_area_id'].astype('float').between(0,0.33)),\n",
    "        (data['from_area_id'].astype('float').between(0.34,0.66)),\n",
    "        (data['from_area_id'].astype('float').between(0.67,1.0))]\n",
    "values = ['Low Cancellation','Medium Cancellation','High Cancellation']\n",
    "data['from_area_id'] = np.select(cond,values)"
   ]
  },
  {
   "cell_type": "code",
   "execution_count": 135,
   "id": "060972b5",
   "metadata": {},
   "outputs": [
    {
     "data": {
      "text/html": [
       "<div>\n",
       "<style scoped>\n",
       "    .dataframe tbody tr th:only-of-type {\n",
       "        vertical-align: middle;\n",
       "    }\n",
       "\n",
       "    .dataframe tbody tr th {\n",
       "        vertical-align: top;\n",
       "    }\n",
       "\n",
       "    .dataframe thead th {\n",
       "        text-align: right;\n",
       "    }\n",
       "</style>\n",
       "<table border=\"1\" class=\"dataframe\">\n",
       "  <thead>\n",
       "    <tr style=\"text-align: right;\">\n",
       "      <th></th>\n",
       "      <th>vehicle_model_id</th>\n",
       "      <th>from_area_id</th>\n",
       "      <th>online_booking</th>\n",
       "      <th>mobile_site_booking</th>\n",
       "      <th>traveltype_pointtopoint</th>\n",
       "      <th>traveltype_hourly</th>\n",
       "      <th>distance</th>\n",
       "      <th>from_date_day</th>\n",
       "      <th>booking_created_day</th>\n",
       "      <th>from_date_month</th>\n",
       "      <th>booking_created_month</th>\n",
       "      <th>from_date_week</th>\n",
       "      <th>booking_created_week</th>\n",
       "      <th>from_date_session</th>\n",
       "      <th>booking_created_session</th>\n",
       "      <th>time_diff</th>\n",
       "    </tr>\n",
       "  </thead>\n",
       "  <tbody>\n",
       "    <tr>\n",
       "      <th>0</th>\n",
       "      <td>28</td>\n",
       "      <td>Low Cancellation</td>\n",
       "      <td>0</td>\n",
       "      <td>0</td>\n",
       "      <td>1</td>\n",
       "      <td>0</td>\n",
       "      <td>3.980687</td>\n",
       "      <td>Tuesday</td>\n",
       "      <td>Tuesday</td>\n",
       "      <td>January</td>\n",
       "      <td>January</td>\n",
       "      <td>Weekday</td>\n",
       "      <td>Weekday</td>\n",
       "      <td>Late Night</td>\n",
       "      <td>Late Night</td>\n",
       "      <td>21.0</td>\n",
       "    </tr>\n",
       "    <tr>\n",
       "      <th>1</th>\n",
       "      <td>12</td>\n",
       "      <td>Low Cancellation</td>\n",
       "      <td>0</td>\n",
       "      <td>0</td>\n",
       "      <td>1</td>\n",
       "      <td>0</td>\n",
       "      <td>14.004432</td>\n",
       "      <td>Tuesday</td>\n",
       "      <td>Tuesday</td>\n",
       "      <td>January</td>\n",
       "      <td>January</td>\n",
       "      <td>Weekday</td>\n",
       "      <td>Weekday</td>\n",
       "      <td>Morning</td>\n",
       "      <td>Late Night</td>\n",
       "      <td>395.0</td>\n",
       "    </tr>\n",
       "    <tr>\n",
       "      <th>2</th>\n",
       "      <td>12</td>\n",
       "      <td>Low Cancellation</td>\n",
       "      <td>0</td>\n",
       "      <td>0</td>\n",
       "      <td>1</td>\n",
       "      <td>0</td>\n",
       "      <td>12.648909</td>\n",
       "      <td>Tuesday</td>\n",
       "      <td>Tuesday</td>\n",
       "      <td>January</td>\n",
       "      <td>January</td>\n",
       "      <td>Weekday</td>\n",
       "      <td>Weekday</td>\n",
       "      <td>Late Night</td>\n",
       "      <td>Late Night</td>\n",
       "      <td>22.0</td>\n",
       "    </tr>\n",
       "    <tr>\n",
       "      <th>3</th>\n",
       "      <td>12</td>\n",
       "      <td>Low Cancellation</td>\n",
       "      <td>0</td>\n",
       "      <td>0</td>\n",
       "      <td>1</td>\n",
       "      <td>0</td>\n",
       "      <td>9.534596</td>\n",
       "      <td>Tuesday</td>\n",
       "      <td>Tuesday</td>\n",
       "      <td>January</td>\n",
       "      <td>January</td>\n",
       "      <td>Weekday</td>\n",
       "      <td>Weekday</td>\n",
       "      <td>Early Morning</td>\n",
       "      <td>Late Night</td>\n",
       "      <td>66.0</td>\n",
       "    </tr>\n",
       "    <tr>\n",
       "      <th>4</th>\n",
       "      <td>12</td>\n",
       "      <td>Low Cancellation</td>\n",
       "      <td>0</td>\n",
       "      <td>0</td>\n",
       "      <td>1</td>\n",
       "      <td>0</td>\n",
       "      <td>14.655467</td>\n",
       "      <td>Tuesday</td>\n",
       "      <td>Tuesday</td>\n",
       "      <td>January</td>\n",
       "      <td>January</td>\n",
       "      <td>Weekday</td>\n",
       "      <td>Weekday</td>\n",
       "      <td>Morning</td>\n",
       "      <td>Early Morning</td>\n",
       "      <td>67.0</td>\n",
       "    </tr>\n",
       "  </tbody>\n",
       "</table>\n",
       "</div>"
      ],
      "text/plain": [
       "   vehicle_model_id      from_area_id  online_booking  mobile_site_booking  \\\n",
       "0                28  Low Cancellation               0                    0   \n",
       "1                12  Low Cancellation               0                    0   \n",
       "2                12  Low Cancellation               0                    0   \n",
       "3                12  Low Cancellation               0                    0   \n",
       "4                12  Low Cancellation               0                    0   \n",
       "\n",
       "   traveltype_pointtopoint  traveltype_hourly   distance from_date_day  \\\n",
       "0                        1                  0   3.980687       Tuesday   \n",
       "1                        1                  0  14.004432       Tuesday   \n",
       "2                        1                  0  12.648909       Tuesday   \n",
       "3                        1                  0   9.534596       Tuesday   \n",
       "4                        1                  0  14.655467       Tuesday   \n",
       "\n",
       "  booking_created_day from_date_month booking_created_month from_date_week  \\\n",
       "0             Tuesday         January               January        Weekday   \n",
       "1             Tuesday         January               January        Weekday   \n",
       "2             Tuesday         January               January        Weekday   \n",
       "3             Tuesday         January               January        Weekday   \n",
       "4             Tuesday         January               January        Weekday   \n",
       "\n",
       "  booking_created_week from_date_session booking_created_session  time_diff  \n",
       "0              Weekday        Late Night              Late Night       21.0  \n",
       "1              Weekday           Morning              Late Night      395.0  \n",
       "2              Weekday        Late Night              Late Night       22.0  \n",
       "3              Weekday     Early Morning              Late Night       66.0  \n",
       "4              Weekday           Morning           Early Morning       67.0  "
      ]
     },
     "execution_count": 135,
     "metadata": {},
     "output_type": "execute_result"
    }
   ],
   "source": [
    "data.head()"
   ]
  },
  {
   "cell_type": "code",
   "execution_count": 136,
   "id": "dd2b4f01",
   "metadata": {},
   "outputs": [
    {
     "data": {
      "text/plain": [
       "Low Cancellation       43415\n",
       "Medium Cancellation       11\n",
       "High Cancellation          5\n",
       "Name: from_area_id, dtype: int64"
      ]
     },
     "execution_count": 136,
     "metadata": {},
     "output_type": "execute_result"
    }
   ],
   "source": [
    "data['from_area_id'].value_counts()"
   ]
  },
  {
   "cell_type": "code",
   "execution_count": 137,
   "id": "bd172c28",
   "metadata": {},
   "outputs": [],
   "source": [
    "#Separating a numerical and categorical values\n",
    "num = data.select_dtypes(include='number')\n",
    "char = data.select_dtypes(include='object')"
   ]
  },
  {
   "cell_type": "code",
   "execution_count": 138,
   "id": "a499f334",
   "metadata": {},
   "outputs": [
    {
     "data": {
      "text/html": [
       "<div>\n",
       "<style scoped>\n",
       "    .dataframe tbody tr th:only-of-type {\n",
       "        vertical-align: middle;\n",
       "    }\n",
       "\n",
       "    .dataframe tbody tr th {\n",
       "        vertical-align: top;\n",
       "    }\n",
       "\n",
       "    .dataframe thead th {\n",
       "        text-align: right;\n",
       "    }\n",
       "</style>\n",
       "<table border=\"1\" class=\"dataframe\">\n",
       "  <thead>\n",
       "    <tr style=\"text-align: right;\">\n",
       "      <th></th>\n",
       "      <th>vehicle_model_id</th>\n",
       "      <th>online_booking</th>\n",
       "      <th>mobile_site_booking</th>\n",
       "      <th>traveltype_pointtopoint</th>\n",
       "      <th>traveltype_hourly</th>\n",
       "      <th>distance</th>\n",
       "      <th>time_diff</th>\n",
       "    </tr>\n",
       "  </thead>\n",
       "  <tbody>\n",
       "    <tr>\n",
       "      <th>0</th>\n",
       "      <td>28</td>\n",
       "      <td>0</td>\n",
       "      <td>0</td>\n",
       "      <td>1</td>\n",
       "      <td>0</td>\n",
       "      <td>3.980687</td>\n",
       "      <td>21.0</td>\n",
       "    </tr>\n",
       "    <tr>\n",
       "      <th>1</th>\n",
       "      <td>12</td>\n",
       "      <td>0</td>\n",
       "      <td>0</td>\n",
       "      <td>1</td>\n",
       "      <td>0</td>\n",
       "      <td>14.004432</td>\n",
       "      <td>395.0</td>\n",
       "    </tr>\n",
       "    <tr>\n",
       "      <th>2</th>\n",
       "      <td>12</td>\n",
       "      <td>0</td>\n",
       "      <td>0</td>\n",
       "      <td>1</td>\n",
       "      <td>0</td>\n",
       "      <td>12.648909</td>\n",
       "      <td>22.0</td>\n",
       "    </tr>\n",
       "    <tr>\n",
       "      <th>3</th>\n",
       "      <td>12</td>\n",
       "      <td>0</td>\n",
       "      <td>0</td>\n",
       "      <td>1</td>\n",
       "      <td>0</td>\n",
       "      <td>9.534596</td>\n",
       "      <td>66.0</td>\n",
       "    </tr>\n",
       "    <tr>\n",
       "      <th>4</th>\n",
       "      <td>12</td>\n",
       "      <td>0</td>\n",
       "      <td>0</td>\n",
       "      <td>1</td>\n",
       "      <td>0</td>\n",
       "      <td>14.655467</td>\n",
       "      <td>67.0</td>\n",
       "    </tr>\n",
       "  </tbody>\n",
       "</table>\n",
       "</div>"
      ],
      "text/plain": [
       "   vehicle_model_id  online_booking  mobile_site_booking  \\\n",
       "0                28               0                    0   \n",
       "1                12               0                    0   \n",
       "2                12               0                    0   \n",
       "3                12               0                    0   \n",
       "4                12               0                    0   \n",
       "\n",
       "   traveltype_pointtopoint  traveltype_hourly   distance  time_diff  \n",
       "0                        1                  0   3.980687       21.0  \n",
       "1                        1                  0  14.004432      395.0  \n",
       "2                        1                  0  12.648909       22.0  \n",
       "3                        1                  0   9.534596       66.0  \n",
       "4                        1                  0  14.655467       67.0  "
      ]
     },
     "execution_count": 138,
     "metadata": {},
     "output_type": "execute_result"
    }
   ],
   "source": [
    "num.head()"
   ]
  },
  {
   "cell_type": "code",
   "execution_count": 139,
   "id": "85557b84",
   "metadata": {},
   "outputs": [
    {
     "data": {
      "text/html": [
       "<div>\n",
       "<style scoped>\n",
       "    .dataframe tbody tr th:only-of-type {\n",
       "        vertical-align: middle;\n",
       "    }\n",
       "\n",
       "    .dataframe tbody tr th {\n",
       "        vertical-align: top;\n",
       "    }\n",
       "\n",
       "    .dataframe thead th {\n",
       "        text-align: right;\n",
       "    }\n",
       "</style>\n",
       "<table border=\"1\" class=\"dataframe\">\n",
       "  <thead>\n",
       "    <tr style=\"text-align: right;\">\n",
       "      <th></th>\n",
       "      <th>from_area_id</th>\n",
       "      <th>from_date_day</th>\n",
       "      <th>booking_created_day</th>\n",
       "      <th>from_date_month</th>\n",
       "      <th>booking_created_month</th>\n",
       "      <th>from_date_week</th>\n",
       "      <th>booking_created_week</th>\n",
       "      <th>from_date_session</th>\n",
       "      <th>booking_created_session</th>\n",
       "    </tr>\n",
       "  </thead>\n",
       "  <tbody>\n",
       "    <tr>\n",
       "      <th>0</th>\n",
       "      <td>Low Cancellation</td>\n",
       "      <td>Tuesday</td>\n",
       "      <td>Tuesday</td>\n",
       "      <td>January</td>\n",
       "      <td>January</td>\n",
       "      <td>Weekday</td>\n",
       "      <td>Weekday</td>\n",
       "      <td>Late Night</td>\n",
       "      <td>Late Night</td>\n",
       "    </tr>\n",
       "    <tr>\n",
       "      <th>1</th>\n",
       "      <td>Low Cancellation</td>\n",
       "      <td>Tuesday</td>\n",
       "      <td>Tuesday</td>\n",
       "      <td>January</td>\n",
       "      <td>January</td>\n",
       "      <td>Weekday</td>\n",
       "      <td>Weekday</td>\n",
       "      <td>Morning</td>\n",
       "      <td>Late Night</td>\n",
       "    </tr>\n",
       "    <tr>\n",
       "      <th>2</th>\n",
       "      <td>Low Cancellation</td>\n",
       "      <td>Tuesday</td>\n",
       "      <td>Tuesday</td>\n",
       "      <td>January</td>\n",
       "      <td>January</td>\n",
       "      <td>Weekday</td>\n",
       "      <td>Weekday</td>\n",
       "      <td>Late Night</td>\n",
       "      <td>Late Night</td>\n",
       "    </tr>\n",
       "    <tr>\n",
       "      <th>3</th>\n",
       "      <td>Low Cancellation</td>\n",
       "      <td>Tuesday</td>\n",
       "      <td>Tuesday</td>\n",
       "      <td>January</td>\n",
       "      <td>January</td>\n",
       "      <td>Weekday</td>\n",
       "      <td>Weekday</td>\n",
       "      <td>Early Morning</td>\n",
       "      <td>Late Night</td>\n",
       "    </tr>\n",
       "    <tr>\n",
       "      <th>4</th>\n",
       "      <td>Low Cancellation</td>\n",
       "      <td>Tuesday</td>\n",
       "      <td>Tuesday</td>\n",
       "      <td>January</td>\n",
       "      <td>January</td>\n",
       "      <td>Weekday</td>\n",
       "      <td>Weekday</td>\n",
       "      <td>Morning</td>\n",
       "      <td>Early Morning</td>\n",
       "    </tr>\n",
       "  </tbody>\n",
       "</table>\n",
       "</div>"
      ],
      "text/plain": [
       "       from_area_id from_date_day booking_created_day from_date_month  \\\n",
       "0  Low Cancellation       Tuesday             Tuesday         January   \n",
       "1  Low Cancellation       Tuesday             Tuesday         January   \n",
       "2  Low Cancellation       Tuesday             Tuesday         January   \n",
       "3  Low Cancellation       Tuesday             Tuesday         January   \n",
       "4  Low Cancellation       Tuesday             Tuesday         January   \n",
       "\n",
       "  booking_created_month from_date_week booking_created_week from_date_session  \\\n",
       "0               January        Weekday              Weekday        Late Night   \n",
       "1               January        Weekday              Weekday           Morning   \n",
       "2               January        Weekday              Weekday        Late Night   \n",
       "3               January        Weekday              Weekday     Early Morning   \n",
       "4               January        Weekday              Weekday           Morning   \n",
       "\n",
       "  booking_created_session  \n",
       "0              Late Night  \n",
       "1              Late Night  \n",
       "2              Late Night  \n",
       "3              Late Night  \n",
       "4           Early Morning  "
      ]
     },
     "execution_count": 139,
     "metadata": {},
     "output_type": "execute_result"
    }
   ],
   "source": [
    "char.head()"
   ]
  },
  {
   "cell_type": "code",
   "execution_count": 140,
   "id": "e90e2964",
   "metadata": {},
   "outputs": [
    {
     "data": {
      "image/png": "[encoded data removed]",
      "text/plain": [
       "<Figure size 432x288 with 1 Axes>"
      ]
     },
     "metadata": {
      "needs_background": "light"
     },
     "output_type": "display_data"
    },
    {
     "data": {
      "image/png": "[encoded data removed]",
      "text/plain": [
       "<Figure size 432x288 with 1 Axes>"
      ]
     },
     "metadata": {
      "needs_background": "light"
     },
     "output_type": "display_data"
    },
    {
     "data": {
      "image/png": "[encoded data removed]",
      "text/plain": [
       "<Figure size 432x288 with 1 Axes>"
      ]
     },
     "metadata": {
      "needs_background": "light"
     },
     "output_type": "display_data"
    },
    {
     "data": {
      "image/png": "[encoded data removed]",
      "text/plain": [
       "<Figure size 432x288 with 1 Axes>"
      ]
     },
     "metadata": {
      "needs_background": "light"
     },
     "output_type": "display_data"
    },
    {
     "data": {
      "image/png": "[encoded data removed]",
      "text/plain": [
       "<Figure size 432x288 with 1 Axes>"
      ]
     },
     "metadata": {
      "needs_background": "light"
     },
     "output_type": "display_data"
    },
    {
     "data": {
      "image/png": "[encoded data removed]",
      "text/plain": [
       "<Figure size 432x288 with 1 Axes>"
      ]
     },
     "metadata": {
      "needs_background": "light"
     },
     "output_type": "display_data"
    },
    {
     "data": {
      "image/png": "[encoded data removed]",
      "text/plain": [
       "<Figure size 432x288 with 1 Axes>"
      ]
     },
     "metadata": {
      "needs_background": "light"
     },
     "output_type": "display_data"
    },
    {
     "data": {
      "image/png": "[encoded data removed]",
      "text/plain": [
       "<Figure size 432x288 with 1 Axes>"
      ]
     },
     "metadata": {
      "needs_background": "light"
     },
     "output_type": "display_data"
    },
    {
     "data": {
      "image/png": "[encoded data removed]",
      "text/plain": [
       "<Figure size 432x288 with 1 Axes>"
      ]
     },
     "metadata": {
      "needs_background": "light"
     },
     "output_type": "display_data"
    }
   ],
   "source": [
    "X_char_merged = pd.concat([char,target],axis=1,join='inner')\n",
    "\n",
    "from numpy import mean\n",
    "for col in (char.columns):\n",
    "    plt.figure()\n",
    "    sns.lineplot(x=col, y=X_char_merged['Car_Cancellation'].mean(), data=X_char_merged,estimator=mean, color='red')\n",
    "    sns.barplot(x=col, y='Car_Cancellation', data=X_char_merged,estimator=mean)\n",
    "plt.show()"
   ]
  },
  {
   "cell_type": "code",
   "execution_count": 141,
   "id": "edfcade2",
   "metadata": {},
   "outputs": [],
   "source": [
    "a = df[['online_booking','mobile_site_booking']]"
   ]
  },
  {
   "cell_type": "code",
   "execution_count": 142,
   "id": "8c72cc50",
   "metadata": {},
   "outputs": [
    {
     "data": {
      "text/plain": [
       "<AxesSubplot:>"
      ]
     },
     "execution_count": 142,
     "metadata": {},
     "output_type": "execute_result"
    },
    {
     "data": {
      "image/png": "[encoded data removed]",
      "text/plain": [
       "<Figure size 432x288 with 1 Axes>"
      ]
     },
     "metadata": {
      "needs_background": "light"
     },
     "output_type": "display_data"
    }
   ],
   "source": [
    "sns.barplot(data=a)"
   ]
  },
  {
   "cell_type": "markdown",
   "id": "c7903238",
   "metadata": {},
   "source": [
    "Maximum Booking was done on Online.\n",
    "This can be helpful in promoting digital marketing. where and when to invest"
   ]
  }
 ],
 "metadata": {
  "kernelspec": {
   "display_name": "Python 3 (ipykernel)",
   "language": "python",
   "name": "python3"
  },
  "language_info": {
   "codemirror_mode": {
    "name": "ipython",
    "version": 3
   },
   "file_extension": ".py",
   "mimetype": "text/x-python",
   "name": "python",
   "nbconvert_exporter": "python",
   "pygments_lexer": "ipython3",
   "version": "3.10.4"
  }
 },
 "nbformat": 4,
 "nbformat_minor": 5
}
